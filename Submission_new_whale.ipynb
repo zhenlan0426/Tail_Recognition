{
 "cells": [
  {
   "cell_type": "code",
   "execution_count": 11,
   "metadata": {},
   "outputs": [],
   "source": [
    "from tensorflow.keras.models import load_model\n",
    "import pickle\n",
    "from albumentations import ShiftScaleRotate,Cutout,RandomContrast,RandomBrightness,Compose\n",
    "from utility.albumentations_helper import create_transform\n",
    "from functions import generate_feature,loop_distance,l2_distance_np,depthwise_maker,top_k\n",
    "import numpy as np\n",
    "import pandas as pd\n",
    "from functools import reduce,partial"
   ]
  },
  {
   "cell_type": "code",
   "execution_count": 69,
   "metadata": {},
   "outputs": [],
   "source": [
    "## change ##\n",
    "color = False\n",
    "FFA_size = 4\n",
    "pct = 0.09\n",
    "model_file = 'feature_model_DenseNet_Triplet2'\n",
    "pos_str = '_new_whale'\n",
    "#distanceFun = depthwise_maker(np.load('Models/conv_weight_Depthwise2.npy'))\n",
    "distanceFun = l2_distance_np\n",
    "aggFun = partial(np.quantile,q=pct,axis=(1,2))\n",
    "new_whale_count = 2197"
   ]
  },
  {
   "cell_type": "code",
   "execution_count": null,
   "metadata": {},
   "outputs": [],
   "source": []
  },
  {
   "cell_type": "markdown",
   "metadata": {},
   "source": [
    "Load model"
   ]
  },
  {
   "cell_type": "code",
   "execution_count": 3,
   "metadata": {},
   "outputs": [],
   "source": [
    "feature_model = load_model('Models/'+model_file+'.h5')"
   ]
  },
  {
   "cell_type": "code",
   "execution_count": 4,
   "metadata": {},
   "outputs": [],
   "source": [
    "feature_model.compile(loss='mse',optimizer='SGD')"
   ]
  },
  {
   "cell_type": "code",
   "execution_count": 6,
   "metadata": {},
   "outputs": [],
   "source": [
    "#feature_model = load_model('Models/feature_l2_distance_margin_loss_fun_factory(0.1,5).h5', \\\n",
    "#                            custom_objects={'loss': margin_loss_fun_factory(0.1,5)})"
   ]
  },
  {
   "cell_type": "code",
   "execution_count": 5,
   "metadata": {},
   "outputs": [],
   "source": [
    "with open('submit_train.pkl', 'rb') as f:\n",
    "    submit_train = pickle.load(f)\n",
    "with open('submit_test.pkl', 'rb') as f:\n",
    "    submit_test = pickle.load(f)  \n",
    "with open('submit_map.pkl', 'rb') as f:\n",
    "    submit_map = pickle.load(f)        "
   ]
  },
  {
   "cell_type": "code",
   "execution_count": 8,
   "metadata": {},
   "outputs": [],
   "source": [
    "aug = Compose([RandomContrast(p=0.2),RandomBrightness(p=0.2),\n",
    "                ShiftScaleRotate(shift_limit=0.03,rotate_limit=15,scale_limit=0.02,p=1)])\n",
    "transform = create_transform(aug)    "
   ]
  },
  {
   "cell_type": "code",
   "execution_count": null,
   "metadata": {},
   "outputs": [],
   "source": []
  },
  {
   "cell_type": "code",
   "execution_count": 9,
   "metadata": {},
   "outputs": [],
   "source": [
    "feature_train = generate_feature(submit_train,transform,FFA_size,color,feature_model)\n",
    "feature_val = generate_feature(submit_test,transform,FFA_size,color,feature_model)"
   ]
  },
  {
   "cell_type": "code",
   "execution_count": null,
   "metadata": {},
   "outputs": [],
   "source": []
  },
  {
   "cell_type": "code",
   "execution_count": 16,
   "metadata": {
    "scrolled": true
   },
   "outputs": [],
   "source": [
    "feature_train = feature_train[:,:,np.newaxis,:]\n",
    "distance_list = []\n",
    "index_list = []\n",
    "for feature in feature_val:\n",
    "    feature = feature[np.newaxis,np.newaxis,:,:]\n",
    "    d = distanceFun(feature_train,feature)\n",
    "    distance_list.append(d)\n",
    "    index_list.append(top_k(aggFun(d)))\n",
    "distance_matrix = np.array(distance_list)\n",
    "predicts = np.array(index_list)"
   ]
  },
  {
   "cell_type": "code",
   "execution_count": null,
   "metadata": {},
   "outputs": [],
   "source": []
  },
  {
   "cell_type": "code",
   "execution_count": 104,
   "metadata": {},
   "outputs": [],
   "source": [
    "d_diag = distanceFun(feature_train,np.swapaxes(feature_train,1,2))\n",
    "d_diag = np.reshape(d_diag,(d_diag.shape[0],-1))\n",
    "d_diag = np.sort(d_diag,1)\n",
    "d_diag = np.min(d_diag[:,4:],1)"
   ]
  },
  {
   "cell_type": "code",
   "execution_count": 105,
   "metadata": {},
   "outputs": [],
   "source": [
    "distance_matrix = distance_matrix - d_diag[np.newaxis,:,np.newaxis,np.newaxis]"
   ]
  },
  {
   "cell_type": "code",
   "execution_count": 106,
   "metadata": {},
   "outputs": [],
   "source": [
    "distance_matrix = np.reshape(distance_matrix,(distance_matrix.shape[0],-1))"
   ]
  },
  {
   "cell_type": "code",
   "execution_count": 107,
   "metadata": {},
   "outputs": [],
   "source": [
    "distance_matrix = np.quantile(distance_matrix,100/distance_matrix.shape[1],1)"
   ]
  },
  {
   "cell_type": "code",
   "execution_count": 108,
   "metadata": {},
   "outputs": [],
   "source": [
    "newIndex = distance_matrix > np.quantile(distance_matrix,1-2*new_whale_count/feature_val.shape[0])"
   ]
  },
  {
   "cell_type": "code",
   "execution_count": 109,
   "metadata": {},
   "outputs": [],
   "source": [
    "newIndex = newIndex[:,np.newaxis]"
   ]
  },
  {
   "cell_type": "code",
   "execution_count": null,
   "metadata": {},
   "outputs": [],
   "source": []
  },
  {
   "cell_type": "code",
   "execution_count": 111,
   "metadata": {},
   "outputs": [],
   "source": [
    "predicts = np.vectorize(submit_map.get)(predicts)"
   ]
  },
  {
   "cell_type": "code",
   "execution_count": 112,
   "metadata": {},
   "outputs": [],
   "source": [
    "predicts_new = np.concatenate([np.array([['new_whale']]*feature_val.shape[0]),predicts[:,:4]],1)"
   ]
  },
  {
   "cell_type": "code",
   "execution_count": 113,
   "metadata": {},
   "outputs": [],
   "source": [
    "predicts_final = np.where(newIndex,predicts_new,predicts)"
   ]
  },
  {
   "cell_type": "code",
   "execution_count": 114,
   "metadata": {},
   "outputs": [],
   "source": [
    "predicts_final=reduce(np.core.defchararray.add,[predicts_final[:,0],\\\n",
    "                                                 ' ', predicts_final[:,1],\\\n",
    "                                                 ' ', predicts_final[:,2],\\\n",
    "                                                 ' ', predicts_final[:,3],\\\n",
    "                                                 ' ', predicts_final[:,4]])"
   ]
  },
  {
   "cell_type": "code",
   "execution_count": 115,
   "metadata": {},
   "outputs": [],
   "source": [
    "submit_df = pd.DataFrame(list(zip([i[0].split('/')[-1].split('.')[0]+'.jpg' for i in submit_test],\\\n",
    "                          predicts_final.tolist())), columns=['Image','Id'])"
   ]
  },
  {
   "cell_type": "code",
   "execution_count": 117,
   "metadata": {
    "scrolled": true
   },
   "outputs": [],
   "source": [
    "submit_df.to_csv('submissions/'+model_file+pos_str+'.csv',index=False)"
   ]
  },
  {
   "cell_type": "code",
   "execution_count": null,
   "metadata": {},
   "outputs": [],
   "source": []
  },
  {
   "cell_type": "code",
   "execution_count": null,
   "metadata": {},
   "outputs": [],
   "source": []
  }
 ],
 "metadata": {
  "kernelspec": {
   "display_name": "Python 3",
   "language": "python",
   "name": "python3"
  },
  "language_info": {
   "codemirror_mode": {
    "name": "ipython",
    "version": 3
   },
   "file_extension": ".py",
   "mimetype": "text/x-python",
   "name": "python",
   "nbconvert_exporter": "python",
   "pygments_lexer": "ipython3",
   "version": "3.6.6"
  },
  "toc": {
   "base_numbering": 1,
   "nav_menu": {},
   "number_sections": true,
   "sideBar": true,
   "skip_h1_title": false,
   "title_cell": "Table of Contents",
   "title_sidebar": "Contents",
   "toc_cell": false,
   "toc_position": {},
   "toc_section_display": true,
   "toc_window_display": false
  }
 },
 "nbformat": 4,
 "nbformat_minor": 2
}
