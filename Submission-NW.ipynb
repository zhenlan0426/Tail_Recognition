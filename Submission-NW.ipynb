{
 "cells": [
  {
   "cell_type": "code",
   "execution_count": 1,
   "metadata": {},
   "outputs": [],
   "source": [
    "from tensorflow.keras.models import load_model\n",
    "import pickle\n",
    "from albumentations import ShiftScaleRotate,Cutout,RandomContrast,RandomBrightness,Compose\n",
    "from utility.albumentations_helper import create_transform\n",
    "from functions import generate_feature,loop_distance,dot_distance_neg_np,NW_PredictGenerator,l2_distance_np\n",
    "import numpy as np\n",
    "import pandas as pd\n",
    "from functools import reduce,partial\n",
    "import matplotlib.pyplot as plt"
   ]
  },
  {
   "cell_type": "code",
   "execution_count": 2,
   "metadata": {},
   "outputs": [],
   "source": [
    "## change ##\n",
    "color = False\n",
    "FFA_size = 4\n",
    "TTA_NW = 4\n",
    "num_bins = 3\n",
    "pct = 0.1\n",
    "model_file = 'feature_model_DenseNet_Triplet2'\n",
    "distanceFun = l2_distance_np"
   ]
  },
  {
   "cell_type": "code",
   "execution_count": null,
   "metadata": {},
   "outputs": [],
   "source": []
  },
  {
   "cell_type": "markdown",
   "metadata": {},
   "source": [
    "### Existing"
   ]
  },
  {
   "cell_type": "code",
   "execution_count": 3,
   "metadata": {},
   "outputs": [],
   "source": [
    "feature_model = load_model('Models/'+model_file+'.h5')"
   ]
  },
  {
   "cell_type": "code",
   "execution_count": 4,
   "metadata": {},
   "outputs": [],
   "source": [
    "feature_model.compile(loss='mse',optimizer='SGD')"
   ]
  },
  {
   "cell_type": "code",
   "execution_count": 5,
   "metadata": {},
   "outputs": [],
   "source": [
    "#feature_model = load_model('Models/feature_l2_distance_margin_loss_fun_factory(0.1,5).h5', \\\n",
    "#                            custom_objects={'loss': margin_loss_fun_factory(0.1,5)})"
   ]
  },
  {
   "cell_type": "code",
   "execution_count": 6,
   "metadata": {},
   "outputs": [],
   "source": [
    "with open('submit_train.pkl', 'rb') as f:\n",
    "    submit_train = pickle.load(f)\n",
    "with open('submit_test.pkl', 'rb') as f:\n",
    "    submit_test = pickle.load(f)  \n",
    "with open('submit_map.pkl', 'rb') as f:\n",
    "    submit_map = pickle.load(f)        "
   ]
  },
  {
   "cell_type": "code",
   "execution_count": 7,
   "metadata": {},
   "outputs": [],
   "source": [
    "aug = Compose([RandomContrast(p=0.2),RandomBrightness(p=0.2),\n",
    "                ShiftScaleRotate(shift_limit=0.03,rotate_limit=15,scale_limit=0.02,p=1)])\n",
    "transform = create_transform(aug)    "
   ]
  },
  {
   "cell_type": "code",
   "execution_count": 8,
   "metadata": {},
   "outputs": [],
   "source": [
    "feature_train = generate_feature(submit_train,transform,FFA_size,color,feature_model)\n",
    "feature_val = generate_feature(submit_test,transform,FFA_size,color,feature_model)\n",
    "predicts = loop_distance(feature_train,feature_val,distanceFun,partial(np.quantile,q=pct,axis=(1,2)))"
   ]
  },
  {
   "cell_type": "code",
   "execution_count": null,
   "metadata": {},
   "outputs": [],
   "source": []
  },
  {
   "cell_type": "markdown",
   "metadata": {},
   "source": [
    "### New Whale"
   ]
  },
  {
   "cell_type": "code",
   "execution_count": 9,
   "metadata": {},
   "outputs": [],
   "source": [
    "NW_model = load_model('Models/NewWhale.h5')"
   ]
  },
  {
   "cell_type": "code",
   "execution_count": 10,
   "metadata": {},
   "outputs": [],
   "source": [
    "gen = NW_PredictGenerator(sum(submit_test,[]),transform)"
   ]
  },
  {
   "cell_type": "code",
   "execution_count": 11,
   "metadata": {},
   "outputs": [],
   "source": [
    "p_NW_list = [NW_model.predict_generator(gen,workers=2,use_multiprocessing=True).flatten() for _ in range(TTA_NW)]"
   ]
  },
  {
   "cell_type": "code",
   "execution_count": 12,
   "metadata": {},
   "outputs": [],
   "source": [
    "p_NW = np.sum(np.stack(p_NW_list,1),1)"
   ]
  },
  {
   "cell_type": "code",
   "execution_count": 13,
   "metadata": {},
   "outputs": [
    {
     "data": {
      "text/plain": [
       "[<matplotlib.lines.Line2D at 0x7f57626f1f60>]"
      ]
     },
     "execution_count": 13,
     "metadata": {},
     "output_type": "execute_result"
    },
    {
     "data": {
      "image/png": "[encoded data removed]",
      "text/plain": [
       "<Figure size 432x288 with 1 Axes>"
      ]
     },
     "metadata": {
      "needs_background": "light"
     },
     "output_type": "display_data"
    }
   ],
   "source": [
    "plt.plot(np.sort(p_NW))"
   ]
  },
  {
   "cell_type": "code",
   "execution_count": null,
   "metadata": {},
   "outputs": [],
   "source": []
  },
  {
   "cell_type": "code",
   "execution_count": null,
   "metadata": {},
   "outputs": [],
   "source": []
  },
  {
   "cell_type": "markdown",
   "metadata": {},
   "source": [
    "### Combine New and Existing"
   ]
  },
  {
   "cell_type": "code",
   "execution_count": 14,
   "metadata": {},
   "outputs": [
    {
     "name": "stdout",
     "output_type": "stream",
     "text": [
      "[0 1 2] [2654 2653 2653]\n"
     ]
    }
   ],
   "source": [
    "tot_num = predicts.shape[0]\n",
    "bins = np.quantile(p_NW,np.arange(num_bins+1)/num_bins)\n",
    "bins[0] = -1\n",
    "bins[-1] = 10\n",
    "inds = num_bins - np.digitize(p_NW,bins)\n",
    "print(np.unique(inds),np.bincount(inds))"
   ]
  },
  {
   "cell_type": "code",
   "execution_count": 15,
   "metadata": {},
   "outputs": [],
   "source": [
    "predicts_nw = np.insert(predicts.flatten(),inds + np.arange(tot_num)*5,-1).reshape(tot_num,6)[:,:5]"
   ]
  },
  {
   "cell_type": "code",
   "execution_count": null,
   "metadata": {},
   "outputs": [],
   "source": []
  },
  {
   "cell_type": "markdown",
   "metadata": {},
   "source": [
    "Submit without New Whale Model"
   ]
  },
  {
   "cell_type": "code",
   "execution_count": 23,
   "metadata": {},
   "outputs": [],
   "source": [
    "predicts = np.vectorize(submit_map.get)(predicts)"
   ]
  },
  {
   "cell_type": "code",
   "execution_count": 24,
   "metadata": {},
   "outputs": [],
   "source": [
    "predicts=reduce(np.core.defchararray.add,['new_whale ',predicts[:,0],\\\n",
    "                                             ' ', predicts[:,1],\\\n",
    "                                             ' ', predicts[:,2],\\\n",
    "                                             ' ', predicts[:,3]])"
   ]
  },
  {
   "cell_type": "code",
   "execution_count": 25,
   "metadata": {},
   "outputs": [],
   "source": [
    "submit_df = pd.DataFrame(list(zip([i[0].split('/')[-1].split('.')[0]+'.jpg' for i in submit_test],\\\n",
    "                          predicts.tolist())), columns=['Image','Id'])"
   ]
  },
  {
   "cell_type": "code",
   "execution_count": 26,
   "metadata": {
    "scrolled": true
   },
   "outputs": [],
   "source": [
    "submit_df.to_csv('submissions/'+model_file+'.csv',index=False)"
   ]
  },
  {
   "cell_type": "code",
   "execution_count": null,
   "metadata": {},
   "outputs": [],
   "source": []
  },
  {
   "cell_type": "markdown",
   "metadata": {},
   "source": [
    "Submit with New Whale Model"
   ]
  },
  {
   "cell_type": "code",
   "execution_count": 16,
   "metadata": {},
   "outputs": [],
   "source": [
    "submit_map[-1] = 'new_whale'"
   ]
  },
  {
   "cell_type": "code",
   "execution_count": 17,
   "metadata": {},
   "outputs": [],
   "source": [
    "predicts_nw = np.vectorize(submit_map.get)(predicts_nw)"
   ]
  },
  {
   "cell_type": "code",
   "execution_count": 18,
   "metadata": {},
   "outputs": [],
   "source": [
    "predicts_nw=reduce(np.core.defchararray.add,[predicts_nw[:,0],\\\n",
    "                                             ' ', predicts_nw[:,1],\\\n",
    "                                             ' ', predicts_nw[:,2],\\\n",
    "                                             ' ', predicts_nw[:,3],\\\n",
    "                                             ' ', predicts_nw[:,4]])"
   ]
  },
  {
   "cell_type": "code",
   "execution_count": 19,
   "metadata": {},
   "outputs": [],
   "source": [
    "submit_df = pd.DataFrame(list(zip([i[0].split('/')[-1].split('.')[0]+'.jpg' for i in submit_test],\\\n",
    "                          predicts_nw.tolist())), columns=['Image','Id'])"
   ]
  },
  {
   "cell_type": "code",
   "execution_count": 20,
   "metadata": {},
   "outputs": [],
   "source": [
    "submit_df.to_csv('submissions/'+model_file+'_nw.csv',index=False)"
   ]
  },
  {
   "cell_type": "code",
   "execution_count": null,
   "metadata": {},
   "outputs": [],
   "source": []
  },
  {
   "cell_type": "code",
   "execution_count": null,
   "metadata": {},
   "outputs": [],
   "source": []
  }
 ],
 "metadata": {
  "kernelspec": {
   "display_name": "Python 3",
   "language": "python",
   "name": "python3"
  },
  "language_info": {
   "codemirror_mode": {
    "name": "ipython",
    "version": 3
   },
   "file_extension": ".py",
   "mimetype": "text/x-python",
   "name": "python",
   "nbconvert_exporter": "python",
   "pygments_lexer": "ipython3",
   "version": "3.6.6"
  },
  "toc": {
   "base_numbering": 1,
   "nav_menu": {},
   "number_sections": true,
   "sideBar": true,
   "skip_h1_title": false,
   "title_cell": "Table of Contents",
   "title_sidebar": "Contents",
   "toc_cell": false,
   "toc_position": {},
   "toc_section_display": true,
   "toc_window_display": false
  }
 },
 "nbformat": 4,
 "nbformat_minor": 2
}
