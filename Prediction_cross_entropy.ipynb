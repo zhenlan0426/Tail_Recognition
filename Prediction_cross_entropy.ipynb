{
 "cells": [
  {
   "cell_type": "code",
   "execution_count": 4,
   "metadata": {},
   "outputs": [],
   "source": [
    "from tensorflow.keras.models import load_model\n",
    "from functions import margin_loss_fun_factory,DataGenerator,PredictGenerator,\\\n",
    "                        l2_distance_np,top_k,loop_distance,MAP,generate_feature,dot_distance_neg_np\n",
    "import pickle\n",
    "from albumentations import ShiftScaleRotate,Cutout,RandomContrast,RandomBrightness,Compose\n",
    "from utility.albumentations_helper import create_transform\n",
    "import time\n",
    "import tensorflow as tf\n",
    "import numpy as np\n",
    "from functools import partial"
   ]
  },
  {
   "cell_type": "code",
   "execution_count": 2,
   "metadata": {},
   "outputs": [],
   "source": [
    "color = False\n",
    "#FFA_size = 4"
   ]
  },
  {
   "cell_type": "markdown",
   "metadata": {},
   "source": [
    "Load model"
   ]
  },
  {
   "cell_type": "code",
   "execution_count": 3,
   "metadata": {},
   "outputs": [],
   "source": [
    "feature_model = load_model('Models/feature_model_DenseNet_greyscale_cross_entropy.h5')"
   ]
  },
  {
   "cell_type": "code",
   "execution_count": 4,
   "metadata": {},
   "outputs": [],
   "source": [
    "#feature_model = load_model('Models/feature_l2_distance_margin_loss_fun_factory(0.1,5).h5', \\\n",
    "#                            custom_objects={'loss': margin_loss_fun_factory(0.1,5)})"
   ]
  },
  {
   "cell_type": "code",
   "execution_count": 5,
   "metadata": {},
   "outputs": [],
   "source": [
    "if color:\n",
    "    with open('/home/will/Desktop/kaggle/Whale/train_df_color.pkl', 'rb') as f:\n",
    "        Ids_train = pickle.load(f)\n",
    "    with open('/home/will/Desktop/kaggle/Whale/new_whale_train_color.pkl', 'rb') as f:\n",
    "        newWhale_train = pickle.load(f)\n",
    "    with open('/home/will/Desktop/kaggle/Whale/val_df_color.pkl', 'rb') as f:\n",
    "        Ids_val = pickle.load(f)\n",
    "    with open('/home/will/Desktop/kaggle/Whale/new_whale_val_color.pkl', 'rb') as f:\n",
    "        newWhale_val = pickle.load(f)\n",
    "else:\n",
    "    with open('/home/will/Desktop/kaggle/Whale/train_df.pkl', 'rb') as f:\n",
    "        Ids_train = pickle.load(f)\n",
    "    with open('/home/will/Desktop/kaggle/Whale/new_whale_train.pkl', 'rb') as f:\n",
    "        newWhale_train = pickle.load(f)\n",
    "    with open('/home/will/Desktop/kaggle/Whale/val_df.pkl', 'rb') as f:\n",
    "        Ids_val = pickle.load(f)\n",
    "    with open('/home/will/Desktop/kaggle/Whale/new_whale_val.pkl', 'rb') as f:\n",
    "        newWhale_val = pickle.load(f)"
   ]
  },
  {
   "cell_type": "code",
   "execution_count": 6,
   "metadata": {},
   "outputs": [],
   "source": [
    "aug = Compose([RandomContrast(p=0.2),RandomBrightness(p=0.2),\n",
    "                ShiftScaleRotate(shift_limit=0.03,rotate_limit=15,scale_limit=0.02,p=1)])\n",
    "transform = create_transform(aug)    "
   ]
  },
  {
   "cell_type": "code",
   "execution_count": null,
   "metadata": {},
   "outputs": [],
   "source": []
  },
  {
   "cell_type": "code",
   "execution_count": 9,
   "metadata": {},
   "outputs": [],
   "source": [
    "aggFuns = [partial(np.quantile,q=pct,axis=(1,2)) for pct in [0.1,0.25,0.5]] + [partial(np.mean,axis=(1,2))]    "
   ]
  },
  {
   "cell_type": "code",
   "execution_count": 10,
   "metadata": {},
   "outputs": [],
   "source": [
    "FFA_sizes = [4,8]\n",
    "results = []"
   ]
  },
  {
   "cell_type": "code",
   "execution_count": 11,
   "metadata": {},
   "outputs": [
    {
     "name": "stdout",
     "output_type": "stream",
     "text": [
      "[4, {'q': 0.1, 'axis': (1, 2)}, 0.04010513296227582]\n",
      "[4, {'q': 0.25, 'axis': (1, 2)}, 0.033178726035868904]\n",
      "[4, {'q': 0.5, 'axis': (1, 2)}, 0.02694805194805195]\n",
      "[4, {'axis': (1, 2)}, 0.026004947433518864]\n",
      "[8, {'q': 0.1, 'axis': (1, 2)}, 0.03877551020408165]\n",
      "[8, {'q': 0.25, 'axis': (1, 2)}, 0.029359925788497217]\n",
      "[8, {'q': 0.5, 'axis': (1, 2)}, 0.020748299319727888]\n",
      "[8, {'axis': (1, 2)}, 0.02051638837353123]\n"
     ]
    }
   ],
   "source": [
    "for FFA_size in FFA_sizes:\n",
    "    feature_train = generate_feature(Ids_train,transform,FFA_size,color,feature_model)\n",
    "    feature_val = generate_feature(Ids_val,transform,FFA_size,color,feature_model)\n",
    "    for aggFun in aggFuns:\n",
    "        predicts = loop_distance(feature_train,feature_val,dot_distance_neg_np,aggFun)\n",
    "        mapping_dict = dict(zip(Ids_train.Id.values,Ids_train.index.values))\n",
    "        labels = Ids_val.Id.map(mapping_dict)\n",
    "        score = MAP(labels,predicts)\n",
    "        print([FFA_size,aggFun.keywords,score])\n",
    "        results.append([FFA_size,aggFun.keywords,score])"
   ]
  },
  {
   "cell_type": "code",
   "execution_count": null,
   "metadata": {},
   "outputs": [],
   "source": [
    "[4, {'q': 0.1, 'axis': (1, 2)}, 0.04010513296227582]\n",
    "[4, {'q': 0.25, 'axis': (1, 2)}, 0.033178726035868904]\n",
    "[4, {'q': 0.5, 'axis': (1, 2)}, 0.02694805194805195]\n",
    "[4, {'axis': (1, 2)}, 0.026004947433518864]\n",
    "[8, {'q': 0.1, 'axis': (1, 2)}, 0.03877551020408165]\n",
    "[8, {'q': 0.25, 'axis': (1, 2)}, 0.029359925788497217]\n",
    "[8, {'q': 0.5, 'axis': (1, 2)}, 0.020748299319727888]\n",
    "[8, {'axis': (1, 2)}, 0.02051638837353123]"
   ]
  },
  {
   "cell_type": "code",
   "execution_count": null,
   "metadata": {},
   "outputs": [],
   "source": []
  },
  {
   "cell_type": "code",
   "execution_count": null,
   "metadata": {},
   "outputs": [],
   "source": []
  }
 ],
 "metadata": {
  "kernelspec": {
   "display_name": "Python 3",
   "language": "python",
   "name": "python3"
  },
  "language_info": {
   "codemirror_mode": {
    "name": "ipython",
    "version": 3
   },
   "file_extension": ".py",
   "mimetype": "text/x-python",
   "name": "python",
   "nbconvert_exporter": "python",
   "pygments_lexer": "ipython3",
   "version": "3.6.6"
  }
 },
 "nbformat": 4,
 "nbformat_minor": 2
}
