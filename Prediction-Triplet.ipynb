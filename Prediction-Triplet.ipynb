{
 "cells": [
  {
   "cell_type": "code",
   "execution_count": 2,
   "metadata": {},
   "outputs": [],
   "source": [
    "from tensorflow.keras.models import load_model\n",
    "from functions import margin_loss_fun_factory,DataGenerator,PredictGenerator,\\\n",
    "                        l2_distance_np,top_k,loop_distance,MAP,generate_feature,GridSearch,dot_distance_neg_np\n",
    "import pickle\n",
    "from albumentations import ShiftScaleRotate,Cutout,RandomContrast,RandomBrightness,Compose\n",
    "from utility.albumentations_helper import create_transform\n",
    "import time\n",
    "import tensorflow as tf\n",
    "import numpy as np\n",
    "from functools import partial"
   ]
  },
  {
   "cell_type": "code",
   "execution_count": 3,
   "metadata": {},
   "outputs": [],
   "source": [
    "## change ##\n",
    "color = False\n",
    "distance = l2_distance_np\n",
    "# FFA_size = 4"
   ]
  },
  {
   "cell_type": "markdown",
   "metadata": {},
   "source": [
    "Load model"
   ]
  },
  {
   "cell_type": "code",
   "execution_count": 4,
   "metadata": {},
   "outputs": [],
   "source": [
    "feature_model = load_model('Models/feature_model_DenseNet_Triplet2.h5')"
   ]
  },
  {
   "cell_type": "code",
   "execution_count": 5,
   "metadata": {},
   "outputs": [],
   "source": [
    "#feature_model = load_model('Models/feature_l2_distance_margin_loss_fun_factory(0.1,5).h5', \\\n",
    "#                            custom_objects={'loss': margin_loss_fun_factory(0.1,5)})"
   ]
  },
  {
   "cell_type": "code",
   "execution_count": 6,
   "metadata": {},
   "outputs": [],
   "source": [
    "if color:\n",
    "    with open('/home/will/Desktop/kaggle/Whale/train_df_color.pkl', 'rb') as f:\n",
    "        Ids_train = pickle.load(f)\n",
    "    with open('/home/will/Desktop/kaggle/Whale/new_whale_train_color.pkl', 'rb') as f:\n",
    "        newWhale_train = pickle.load(f)\n",
    "    with open('/home/will/Desktop/kaggle/Whale/val_df_color.pkl', 'rb') as f:\n",
    "        Ids_val = pickle.load(f)\n",
    "    with open('/home/will/Desktop/kaggle/Whale/new_whale_val_color.pkl', 'rb') as f:\n",
    "        newWhale_val = pickle.load(f)\n",
    "else:\n",
    "    with open('/home/will/Desktop/kaggle/Whale/train_df.pkl', 'rb') as f:\n",
    "        Ids_train = pickle.load(f)\n",
    "    with open('/home/will/Desktop/kaggle/Whale/new_whale_train.pkl', 'rb') as f:\n",
    "        newWhale_train = pickle.load(f)\n",
    "    with open('/home/will/Desktop/kaggle/Whale/val_df.pkl', 'rb') as f:\n",
    "        Ids_val = pickle.load(f)\n",
    "    with open('/home/will/Desktop/kaggle/Whale/new_whale_val.pkl', 'rb') as f:\n",
    "        newWhale_val = pickle.load(f)"
   ]
  },
  {
   "cell_type": "code",
   "execution_count": 7,
   "metadata": {},
   "outputs": [],
   "source": [
    "aug = Compose([RandomContrast(p=0.2),RandomBrightness(p=0.2),\n",
    "                ShiftScaleRotate(shift_limit=0.03,rotate_limit=15,scale_limit=0.02,p=1)])\n",
    "transform = create_transform(aug)    "
   ]
  },
  {
   "cell_type": "code",
   "execution_count": null,
   "metadata": {},
   "outputs": [],
   "source": []
  },
  {
   "cell_type": "code",
   "execution_count": 8,
   "metadata": {},
   "outputs": [],
   "source": [
    "# aggFuns = [partial(np.quantile,q=pct,axis=(1,2)) for pct in [0.1,0.25,0.5]] + [partial(np.mean,axis=(1,2))]\n",
    "# FFA_sizes = [4,8]\n",
    "aggFuns = [partial(np.quantile,q=pct,axis=(1,2)) for pct in np.linspace(0,0.2,21)]\n",
    "FFA1_sizes = [4]\n",
    "FFA2_sizes = [4]"
   ]
  },
  {
   "cell_type": "code",
   "execution_count": 9,
   "metadata": {},
   "outputs": [],
   "source": [
    "gs_dict = GridSearch(aggFuns,FFA1_sizes,FFA2_sizes,Ids_train,Ids_val,\\\n",
    "                     transform,color,feature_model,distance,k=5)"
   ]
  },
  {
   "cell_type": "code",
   "execution_count": null,
   "metadata": {},
   "outputs": [],
   "source": []
  },
  {
   "cell_type": "code",
   "execution_count": 10,
   "metadata": {},
   "outputs": [
    {
     "data": {
      "text/plain": [
       "[<matplotlib.lines.Line2D at 0x7f30e0ab28d0>]"
      ]
     },
     "execution_count": 10,
     "metadata": {},
     "output_type": "execute_result"
    },
    {
     "data": {
      "image/png": "[encoded data removed]",
      "text/plain": [
       "<Figure size 432x288 with 1 Axes>"
      ]
     },
     "metadata": {
      "needs_background": "light"
     },
     "output_type": "display_data"
    }
   ],
   "source": [
    "%matplotlib inline\n",
    "import matplotlib.pyplot as plt\n",
    "plt.plot([gs_dict[(4,4),pct] for pct in np.linspace(0,0.2,21)])"
   ]
  },
  {
   "cell_type": "code",
   "execution_count": 11,
   "metadata": {},
   "outputs": [
    {
     "data": {
      "text/plain": [
       "{((4, 4), 0.0): 0.3239332096474954,\n",
       " ((4, 4), 0.01): 0.3314780457637601,\n",
       " ((4, 4), 0.02): 0.3374768089053803,\n",
       " ((4, 4), 0.03): 0.34233147804576375,\n",
       " ((4, 4), 0.04): 0.3414656771799629,\n",
       " ((4, 4), 0.05): 0.3401205936920223,\n",
       " ((4, 4), 0.06): 0.33594619666048237,\n",
       " ((4, 4), 0.07): 0.3398268398268398,\n",
       " ((4, 4), 0.08): 0.34370748299319726,\n",
       " ((4, 4), 0.09): 0.34618119975262834,\n",
       " ((4, 4), 0.1): 0.3429808286951144,\n",
       " ((4, 4), 0.11): 0.33658008658008653,\n",
       " ((4, 4), 0.12): 0.3313079777365492,\n",
       " ((4, 4), 0.13): 0.32546382189239337,\n",
       " ((4, 4), 0.14): 0.3233766233766234,\n",
       " ((4, 4), 0.15): 0.3219233147804576,\n",
       " ((4, 4), 0.16): 0.31986703772418057,\n",
       " ((4, 4), 0.17): 0.318212739641311,\n",
       " ((4, 4), 0.18): 0.312152133580705,\n",
       " ((4, 4), 0.19): 0.31006493506493504,\n",
       " ((4, 4), 0.2): 0.3078076685219542}"
      ]
     },
     "execution_count": 11,
     "metadata": {},
     "output_type": "execute_result"
    }
   ],
   "source": [
    "gs_dict"
   ]
  },
  {
   "cell_type": "code",
   "execution_count": null,
   "metadata": {},
   "outputs": [],
   "source": []
  },
  {
   "cell_type": "code",
   "execution_count": null,
   "metadata": {},
   "outputs": [],
   "source": []
  },
  {
   "cell_type": "code",
   "execution_count": null,
   "metadata": {},
   "outputs": [],
   "source": []
  },
  {
   "cell_type": "code",
   "execution_count": 29,
   "metadata": {},
   "outputs": [
    {
     "data": {
      "text/plain": [
       "{((4, 4), 0.0): 0.1567408781694496,\n",
       " ((4, 4), 0.01): 0.16006493506493508,\n",
       " ((4, 4), 0.02): 0.1601113172541744,\n",
       " ((4, 4), 0.03): 0.15576685219542363,\n",
       " ((4, 4), 0.04): 0.15247371675943105,\n",
       " ((4, 4), 0.05): 0.14907235621521334,\n",
       " ((4, 4), 0.06): 0.14947433518862088,\n",
       " ((4, 4), 0.07): 0.14860853432282006,\n",
       " ((4, 4), 0.08): 0.1532003710575139,\n",
       " ((4, 4), 0.09): 0.153586889301175,\n",
       " ((4, 4), 0.1): 0.15205627705627708}"
      ]
     },
     "execution_count": 29,
     "metadata": {},
     "output_type": "execute_result"
    }
   ],
   "source": [
    "gs_dict"
   ]
  },
  {
   "cell_type": "code",
   "execution_count": null,
   "metadata": {},
   "outputs": [],
   "source": []
  },
  {
   "cell_type": "code",
   "execution_count": 21,
   "metadata": {},
   "outputs": [
    {
     "data": {
      "text/plain": [
       "{((1, 1), 0.1): 0.12183055040197896,\n",
       " ((1, 1), 0.25): 0.12183055040197896,\n",
       " ((2, 2), 0.1): 0.14724799010513298,\n",
       " ((2, 2), 0.25): 0.13786332714904145,\n",
       " ((3, 3), 0.1): 0.15728200371057516,\n",
       " ((3, 3), 0.25): 0.14083178726035872}"
      ]
     },
     "execution_count": 21,
     "metadata": {},
     "output_type": "execute_result"
    }
   ],
   "source": [
    "gs_dict"
   ]
  },
  {
   "cell_type": "code",
   "execution_count": null,
   "metadata": {},
   "outputs": [],
   "source": []
  },
  {
   "cell_type": "code",
   "execution_count": 10,
   "metadata": {},
   "outputs": [
    {
     "data": {
      "text/plain": [
       "{((4, 4), 0.1): 0.1507421150278293,\n",
       " ((4, 4), 0.25): 0.13051948051948054,\n",
       " ((4, 8), 0.1): 0.1494279529993816,\n",
       " ((4, 8), 0.25): 0.13031849103277676,\n",
       " ((8, 4), 0.1): 0.1591063698206555,\n",
       " ((8, 4), 0.25): 0.13252937538651824}"
      ]
     },
     "execution_count": 10,
     "metadata": {},
     "output_type": "execute_result"
    }
   ],
   "source": [
    "gs_dict"
   ]
  },
  {
   "cell_type": "code",
   "execution_count": null,
   "metadata": {},
   "outputs": [],
   "source": []
  },
  {
   "cell_type": "code",
   "execution_count": 8,
   "metadata": {},
   "outputs": [
    {
     "data": {
      "text/plain": [
       "{((4, 4), 0.1): 0.15904452690166976,\n",
       " ((4, 4), 0.25): 0.14534632034632036,\n",
       " ((4, 4), 0.5): 0.13297773654916512,\n",
       " ((4, 4), None): 0.11040507111935685,\n",
       " ((8, 8), 0.1): 0.17960729746444032,\n",
       " ((8, 8), 0.25): 0.15335497835497836,\n",
       " ((8, 8), 0.5): 0.12680890538033393,\n",
       " ((8, 8), None): 0.08783240568954855}"
      ]
     },
     "execution_count": 8,
     "metadata": {},
     "output_type": "execute_result"
    }
   ],
   "source": [
    "gs_dict"
   ]
  },
  {
   "cell_type": "code",
   "execution_count": null,
   "metadata": {},
   "outputs": [],
   "source": []
  },
  {
   "cell_type": "code",
   "execution_count": null,
   "metadata": {},
   "outputs": [],
   "source": []
  }
 ],
 "metadata": {
  "kernelspec": {
   "display_name": "Python 3",
   "language": "python",
   "name": "python3"
  },
  "language_info": {
   "codemirror_mode": {
    "name": "ipython",
    "version": 3
   },
   "file_extension": ".py",
   "mimetype": "text/x-python",
   "name": "python",
   "nbconvert_exporter": "python",
   "pygments_lexer": "ipython3",
   "version": "3.6.6"
  },
  "toc": {
   "base_numbering": 1,
   "nav_menu": {},
   "number_sections": true,
   "sideBar": true,
   "skip_h1_title": false,
   "title_cell": "Table of Contents",
   "title_sidebar": "Contents",
   "toc_cell": false,
   "toc_position": {},
   "toc_section_display": true,
   "toc_window_display": false
  }
 },
 "nbformat": 4,
 "nbformat_minor": 2
}
