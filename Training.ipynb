{
 "cells": [
  {
   "cell_type": "code",
   "execution_count": 1,
   "metadata": {},
   "outputs": [],
   "source": [
    "import pickle\n",
    "from albumentations import ShiftScaleRotate,Cutout,RandomContrast,RandomBrightness,Compose\n",
    "from utility.albumentations_helper import create_transform\n",
    "from utility.others import clear_all\n",
    "import time\n",
    "from functions import DataGenerator,PredictGenerator,create_model,dot_distance,exp_loss,\\\n",
    "                        sigmoid_dot_distance,dot_sigmoid_distance,cross_entropy_loss,l2_distance,\\\n",
    "                        margin_loss_fun_factory,Xception_reduced\n",
    "from utility.grayscale_imagenet import Xception_greyscale\n",
    "import tensorflow as tf\n",
    "import numpy as np\n",
    "from tensorflow.keras.models import load_model\n",
    "#from tensorflow.keras.applications import DenseNet121"
   ]
  },
  {
   "cell_type": "code",
   "execution_count": 2,
   "metadata": {},
   "outputs": [],
   "source": [
    "color = False"
   ]
  },
  {
   "cell_type": "code",
   "execution_count": null,
   "metadata": {},
   "outputs": [],
   "source": []
  },
  {
   "cell_type": "markdown",
   "metadata": {},
   "source": [
    "### set up generator"
   ]
  },
  {
   "cell_type": "code",
   "execution_count": 3,
   "metadata": {},
   "outputs": [],
   "source": [
    "if color:\n",
    "    with open('/home/will/Desktop/kaggle/Whale/train_df_color.pkl', 'rb') as f:\n",
    "        Ids_train = pickle.load(f)\n",
    "    with open('/home/will/Desktop/kaggle/Whale/new_whale_train_color.pkl', 'rb') as f:\n",
    "        newWhale_train = pickle.load(f)\n",
    "    with open('/home/will/Desktop/kaggle/Whale/val_df_color.pkl', 'rb') as f:\n",
    "        Ids_val = pickle.load(f)\n",
    "    with open('/home/will/Desktop/kaggle/Whale/new_whale_val_color.pkl', 'rb') as f:\n",
    "        newWhale_val = pickle.load(f)\n",
    "else:\n",
    "    with open('/home/will/Desktop/kaggle/Whale/train_df.pkl', 'rb') as f:\n",
    "        Ids_train = pickle.load(f)\n",
    "    with open('/home/will/Desktop/kaggle/Whale/new_whale_train.pkl', 'rb') as f:\n",
    "        newWhale_train = pickle.load(f)\n",
    "    with open('/home/will/Desktop/kaggle/Whale/val_df.pkl', 'rb') as f:\n",
    "        Ids_val = pickle.load(f)\n",
    "    with open('/home/will/Desktop/kaggle/Whale/new_whale_val.pkl', 'rb') as f:\n",
    "        newWhale_val = pickle.load(f)"
   ]
  },
  {
   "cell_type": "code",
   "execution_count": 4,
   "metadata": {},
   "outputs": [],
   "source": [
    "aug = Compose([RandomContrast(p=0.2),RandomBrightness(p=0.2),\n",
    "                ShiftScaleRotate(shift_limit=0.03,rotate_limit=15,scale_limit=0.02,p=1),Cutout(p=0.5)])\n",
    "transform = create_transform(aug)    \n",
    "\n",
    "gen_train = DataGenerator(Ids_train,newWhale_train,transform,color=color,HalfBatch=8)\n",
    "gen_val = DataGenerator(Ids_val,newWhale_val,transform,color=color,HalfBatch=8)"
   ]
  },
  {
   "cell_type": "code",
   "execution_count": null,
   "metadata": {},
   "outputs": [],
   "source": []
  },
  {
   "cell_type": "markdown",
   "metadata": {},
   "source": [
    "### build model"
   ]
  },
  {
   "cell_type": "code",
   "execution_count": 5,
   "metadata": {
    "scrolled": false
   },
   "outputs": [],
   "source": [
    "# conv_base = DenseNet121(weights='imagenet',include_top=False,pooling='max')\n",
    "#conv_base = Xception_greyscale((256,256,1),'max',False)\n",
    "conv_base = Xception_reduced((256,256,1))"
   ]
  },
  {
   "cell_type": "code",
   "execution_count": 6,
   "metadata": {
    "scrolled": false
   },
   "outputs": [],
   "source": [
    "train_model,feature_model = create_model(1e-3,l2_distance,margin_loss_fun_factory(0.1,5),\\\n",
    "                                         conv_base,color,[512,512],['relu',None])"
   ]
  },
  {
   "cell_type": "code",
   "execution_count": null,
   "metadata": {},
   "outputs": [],
   "source": []
  },
  {
   "cell_type": "markdown",
   "metadata": {},
   "source": [
    "### training"
   ]
  },
  {
   "cell_type": "code",
   "execution_count": 7,
   "metadata": {},
   "outputs": [
    {
     "name": "stdout",
     "output_type": "stream",
     "text": [
      "Epoch 1/5\n",
      "714/714 [==============================] - 248s 348ms/step - loss: -0.3484 - val_loss: -0.3115\n",
      "Epoch 2/5\n",
      "714/714 [==============================] - 263s 369ms/step - loss: -0.5330 - val_loss: -0.8432\n",
      "Epoch 3/5\n",
      "714/714 [==============================] - 269s 376ms/step - loss: -0.6259 - val_loss: -0.7189\n",
      "Epoch 4/5\n",
      "714/714 [==============================] - 269s 377ms/step - loss: -0.7074 - val_loss: -0.9012\n",
      "Epoch 5/5\n",
      "714/714 [==============================] - 362s 508ms/step - loss: -0.7410 - val_loss: -0.8922\n",
      "time:1413.8876395225525\n"
     ]
    }
   ],
   "source": [
    "# conv_base = Xception_reduced((256,256,1))\n",
    "# train_model,feature_model = create_model(1e-3,l2_distance,margin_loss_fun_factory(0.1,5),\\\n",
    "#                                         conv_base,color,[512,512],['relu',None])\n",
    "start = time.time()\n",
    "history = train_model.fit_generator(\n",
    "          gen_train,\n",
    "          validation_data = gen_val,\n",
    "          epochs=5,\n",
    "          use_multiprocessing=True,workers=2,max_queue_size=20)\n",
    "end = time.time()\n",
    "print('time:{}'.format(end - start))"
   ]
  },
  {
   "cell_type": "code",
   "execution_count": null,
   "metadata": {},
   "outputs": [
    {
     "name": "stdout",
     "output_type": "stream",
     "text": [
      "Epoch 1/5\n",
      "271/714 [==========>...................] - ETA: 3:37 - loss: -0.7762"
     ]
    }
   ],
   "source": [
    "start = time.time()\n",
    "history = train_model.fit_generator(\n",
    "          gen_train,\n",
    "          validation_data = gen_val,\n",
    "          epochs=5,\n",
    "          use_multiprocessing=True,workers=2,max_queue_size=20)\n",
    "end = time.time()\n",
    "print('time:{}'.format(end - start))"
   ]
  },
  {
   "cell_type": "code",
   "execution_count": null,
   "metadata": {},
   "outputs": [],
   "source": []
  },
  {
   "cell_type": "code",
   "execution_count": null,
   "metadata": {},
   "outputs": [],
   "source": []
  },
  {
   "cell_type": "code",
   "execution_count": 17,
   "metadata": {
    "scrolled": true
   },
   "outputs": [
    {
     "name": "stdout",
     "output_type": "stream",
     "text": [
      "Epoch 1/5\n",
      "713/714 [============================>.] - ETA: 0s - loss: 0.9346\n",
      "714/714 [==============================] - 165s 232ms/step - loss: 0.9346 - val_loss: 3.0979\n",
      "Epoch 2/5\n",
      "714/714 [==============================] - 165s 231ms/step - loss: 0.9273 - val_loss: 2.7641\n",
      "Epoch 3/5\n",
      "714/714 [==============================] - 165s 231ms/step - loss: 0.9310 - val_loss: 2.9462\n",
      "Epoch 4/5\n",
      "714/714 [==============================] - 165s 231ms/step - loss: 0.9089 - val_loss: 5.3465\n",
      "Epoch 5/5\n",
      "714/714 [==============================] - 165s 231ms/step - loss: 0.9125 - val_loss: 4.3415\n",
      "time:824.5533976554871\n"
     ]
    }
   ],
   "source": [
    "# create_model(5e-4,dot_distance,exp_loss,Xception_greyscale((256,256,1),'max',False),color)\n",
    "start = time.time()\n",
    "history = train_model.fit_generator(\n",
    "          gen_train,\n",
    "          validation_data = gen_val,\n",
    "          epochs=5,\n",
    "          use_multiprocessing=True,workers=2,max_queue_size=20)\n",
    "end = time.time()\n",
    "print('time:{}'.format(end - start))"
   ]
  },
  {
   "cell_type": "code",
   "execution_count": null,
   "metadata": {},
   "outputs": [],
   "source": []
  },
  {
   "cell_type": "code",
   "execution_count": 39,
   "metadata": {},
   "outputs": [],
   "source": [
    "# create_model(5e-2,dot_sigmoid_distance,exp_loss,Xception_greyscale((256,256,1),'max',False),color)\n",
    "# this just push everything to huge negative number. So after sigmoid all zero"
   ]
  },
  {
   "cell_type": "code",
   "execution_count": null,
   "metadata": {},
   "outputs": [],
   "source": []
  },
  {
   "cell_type": "code",
   "execution_count": 5,
   "metadata": {},
   "outputs": [],
   "source": [
    "# create_model(5e-4,sigmoid_dot_distance,exp_loss,Xception_greyscale((256,256,1),'max',False),color)\n",
    "# loss does not decrease"
   ]
  },
  {
   "cell_type": "code",
   "execution_count": null,
   "metadata": {},
   "outputs": [],
   "source": []
  },
  {
   "cell_type": "code",
   "execution_count": 12,
   "metadata": {},
   "outputs": [
    {
     "name": "stdout",
     "output_type": "stream",
     "text": [
      "Epoch 1/5\n",
      "714/714 [==============================] - 90s 126ms/step - loss: 0.6287 - val_loss: 2.8820\n",
      "Epoch 2/5\n",
      "714/714 [==============================] - 134s 188ms/step - loss: 0.6232 - val_loss: 1.9558\n",
      "Epoch 3/5\n",
      "714/714 [==============================] - 166s 232ms/step - loss: 0.6251 - val_loss: 2.0248\n",
      "Epoch 4/5\n",
      "714/714 [==============================] - 166s 232ms/step - loss: 0.6239 - val_loss: 2.5173\n",
      "Epoch 5/5\n",
      "714/714 [==============================] - 166s 232ms/step - loss: 0.6304 - val_loss: 2.0597\n",
      "time:721.7185816764832\n"
     ]
    }
   ],
   "source": [
    "# create_model(1e-3,dot_distance_neg,cross_entropy_loss,Xception_greyscale((256,256,1),'max',False),color)\n",
    "start = time.time()\n",
    "history = train_model.fit_generator(\n",
    "          gen_train,\n",
    "          validation_data = gen_val,\n",
    "          epochs=5,\n",
    "          use_multiprocessing=True,workers=2,max_queue_size=20)\n",
    "end = time.time()\n",
    "print('time:{}'.format(end - start))"
   ]
  },
  {
   "cell_type": "code",
   "execution_count": null,
   "metadata": {},
   "outputs": [],
   "source": []
  },
  {
   "cell_type": "code",
   "execution_count": 8,
   "metadata": {},
   "outputs": [
    {
     "name": "stdout",
     "output_type": "stream",
     "text": [
      "Epoch 1/5\n",
      "714/714 [==============================] - 89s 125ms/step - loss: -0.5730 - val_loss: -0.6638\n",
      "Epoch 2/5\n",
      "714/714 [==============================] - 85s 119ms/step - loss: -0.6436 - val_loss: -0.6496\n",
      "Epoch 3/5\n",
      "714/714 [==============================] - 132s 184ms/step - loss: -0.6517 - val_loss: -0.6050\n",
      "Epoch 4/5\n",
      "714/714 [==============================] - 164s 230ms/step - loss: -0.6505 - val_loss: -0.6908\n",
      "Epoch 5/5\n",
      "714/714 [==============================] - 164s 230ms/step - loss: -0.6815 - val_loss: -0.6497\n",
      "time:634.2249140739441\n"
     ]
    }
   ],
   "source": [
    "# train_model,feature_model = create_model(1e-3,l2_distance,margin_loss_fun_factory(0.1,5),\\\n",
    "#                                         conv_base,color)\n",
    "start = time.time()\n",
    "history = train_model.fit_generator(\n",
    "          gen_train,\n",
    "          validation_data = gen_val,\n",
    "          epochs=5,\n",
    "          use_multiprocessing=True,workers=2,max_queue_size=20)\n",
    "end = time.time()\n",
    "print('time:{}'.format(end - start))"
   ]
  },
  {
   "cell_type": "code",
   "execution_count": null,
   "metadata": {},
   "outputs": [],
   "source": []
  },
  {
   "cell_type": "markdown",
   "metadata": {},
   "source": [
    "Fine-Tune"
   ]
  },
  {
   "cell_type": "code",
   "execution_count": 12,
   "metadata": {},
   "outputs": [],
   "source": [
    "feature_model.layers[0].trainable=True"
   ]
  },
  {
   "cell_type": "code",
   "execution_count": 14,
   "metadata": {},
   "outputs": [],
   "source": [
    "for layer in feature_model.layers[0].layers:\n",
    "    if layer.name in ['block14_sepconv2','block14_sepconv1']:\n",
    "        layer.trainable = True\n",
    "    else:\n",
    "        layer.trainable = False"
   ]
  },
  {
   "cell_type": "code",
   "execution_count": 19,
   "metadata": {},
   "outputs": [],
   "source": [
    "train_model.compile(loss=margin_loss_fun_factory(0.1,5),optimizer=tf.keras.optimizers.Adam(lr=1e-4))"
   ]
  },
  {
   "cell_type": "code",
   "execution_count": 20,
   "metadata": {},
   "outputs": [
    {
     "name": "stdout",
     "output_type": "stream",
     "text": [
      "Epoch 1/5\n",
      "713/714 [============================>.] - ETA: 0s - loss: -0.8138Epoch 1/5\n",
      "714/714 [==============================] - 180s 252ms/step - loss: -0.8127 - val_loss: -0.7030\n",
      "Epoch 2/5\n",
      "714/714 [==============================] - 178s 250ms/step - loss: -0.9215 - val_loss: -0.7280\n",
      "Epoch 3/5\n",
      "714/714 [==============================] - 179s 250ms/step - loss: -1.0445 - val_loss: -0.6875\n",
      "Epoch 4/5\n",
      "714/714 [==============================] - 179s 251ms/step - loss: -1.0952 - val_loss: -0.5705\n",
      "Epoch 5/5\n",
      "714/714 [==============================] - 179s 250ms/step - loss: -1.0889 - val_loss: -0.6476\n",
      "time:895.5712113380432\n"
     ]
    }
   ],
   "source": [
    "start = time.time()\n",
    "history = train_model.fit_generator(\n",
    "          gen_train,\n",
    "          validation_data = gen_val,\n",
    "          epochs=5,\n",
    "          use_multiprocessing=True,workers=2,max_queue_size=20)\n",
    "end = time.time()\n",
    "print('time:{}'.format(end - start))"
   ]
  },
  {
   "cell_type": "code",
   "execution_count": null,
   "metadata": {},
   "outputs": [],
   "source": []
  },
  {
   "cell_type": "code",
   "execution_count": 21,
   "metadata": {},
   "outputs": [],
   "source": [
    "train_model.save('Models/train_l2_distance_margin_loss_fun_factory(0.1,5).h5')"
   ]
  },
  {
   "cell_type": "code",
   "execution_count": 22,
   "metadata": {},
   "outputs": [],
   "source": [
    "feature_model.save('Models/feature_l2_distance_margin_loss_fun_factory(0.1,5).h5')"
   ]
  },
  {
   "cell_type": "code",
   "execution_count": null,
   "metadata": {},
   "outputs": [],
   "source": []
  },
  {
   "cell_type": "code",
   "execution_count": null,
   "metadata": {},
   "outputs": [],
   "source": []
  },
  {
   "cell_type": "code",
   "execution_count": null,
   "metadata": {},
   "outputs": [],
   "source": []
  }
 ],
 "metadata": {
  "kernelspec": {
   "display_name": "Python 3",
   "language": "python",
   "name": "python3"
  },
  "language_info": {
   "codemirror_mode": {
    "name": "ipython",
    "version": 3
   },
   "file_extension": ".py",
   "mimetype": "text/x-python",
   "name": "python",
   "nbconvert_exporter": "python",
   "pygments_lexer": "ipython3",
   "version": "3.6.6"
  }
 },
 "nbformat": 4,
 "nbformat_minor": 2
}
