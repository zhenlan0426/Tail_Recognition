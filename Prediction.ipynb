{
 "cells": [
  {
   "cell_type": "code",
   "execution_count": 1,
   "metadata": {},
   "outputs": [],
   "source": [
    "from tensorflow.keras.models import load_model\n",
    "from functions import margin_loss_fun_factory,DataGenerator,PredictGenerator,\\\n",
    "                        l2_distance_np,top_k,loop_distance,MAP,generate_feature\n",
    "import pickle\n",
    "from albumentations import ShiftScaleRotate,Cutout,RandomContrast,RandomBrightness,Compose\n",
    "from utility.albumentations_helper import create_transform\n",
    "import time\n",
    "import tensorflow as tf\n",
    "import numpy as np\n",
    "from functools import partial"
   ]
  },
  {
   "cell_type": "code",
   "execution_count": 2,
   "metadata": {},
   "outputs": [],
   "source": [
    "color = False\n",
    "#FFA_size = 4"
   ]
  },
  {
   "cell_type": "markdown",
   "metadata": {},
   "source": [
    "Load model"
   ]
  },
  {
   "cell_type": "code",
   "execution_count": 3,
   "metadata": {},
   "outputs": [],
   "source": [
    "feature_model = load_model('Models/feature_model_DenseNet_greyscale.h5')"
   ]
  },
  {
   "cell_type": "code",
   "execution_count": 4,
   "metadata": {},
   "outputs": [],
   "source": [
    "#feature_model = load_model('Models/feature_l2_distance_margin_loss_fun_factory(0.1,5).h5', \\\n",
    "#                            custom_objects={'loss': margin_loss_fun_factory(0.1,5)})"
   ]
  },
  {
   "cell_type": "code",
   "execution_count": 4,
   "metadata": {},
   "outputs": [],
   "source": [
    "if color:\n",
    "    with open('/home/will/Desktop/kaggle/Whale/train_df_color.pkl', 'rb') as f:\n",
    "        Ids_train = pickle.load(f)\n",
    "    with open('/home/will/Desktop/kaggle/Whale/new_whale_train_color.pkl', 'rb') as f:\n",
    "        newWhale_train = pickle.load(f)\n",
    "    with open('/home/will/Desktop/kaggle/Whale/val_df_color.pkl', 'rb') as f:\n",
    "        Ids_val = pickle.load(f)\n",
    "    with open('/home/will/Desktop/kaggle/Whale/new_whale_val_color.pkl', 'rb') as f:\n",
    "        newWhale_val = pickle.load(f)\n",
    "else:\n",
    "    with open('/home/will/Desktop/kaggle/Whale/train_df.pkl', 'rb') as f:\n",
    "        Ids_train = pickle.load(f)\n",
    "    with open('/home/will/Desktop/kaggle/Whale/new_whale_train.pkl', 'rb') as f:\n",
    "        newWhale_train = pickle.load(f)\n",
    "    with open('/home/will/Desktop/kaggle/Whale/val_df.pkl', 'rb') as f:\n",
    "        Ids_val = pickle.load(f)\n",
    "    with open('/home/will/Desktop/kaggle/Whale/new_whale_val.pkl', 'rb') as f:\n",
    "        newWhale_val = pickle.load(f)"
   ]
  },
  {
   "cell_type": "code",
   "execution_count": 5,
   "metadata": {},
   "outputs": [],
   "source": [
    "aug = Compose([RandomContrast(p=0.2),RandomBrightness(p=0.2),\n",
    "                ShiftScaleRotate(shift_limit=0.03,rotate_limit=15,scale_limit=0.02,p=1)])\n",
    "transform = create_transform(aug)    "
   ]
  },
  {
   "cell_type": "code",
   "execution_count": null,
   "metadata": {},
   "outputs": [],
   "source": []
  },
  {
   "cell_type": "code",
   "execution_count": 6,
   "metadata": {},
   "outputs": [],
   "source": [
    "aggFuns = [partial(np.quantile,q=pct,axis=(1,2)) for pct in [0.1,0.25,0.5]] + [partial(np.mean,axis=(1,2))]    "
   ]
  },
  {
   "cell_type": "code",
   "execution_count": 7,
   "metadata": {},
   "outputs": [],
   "source": [
    "FFA_sizes = [4,8]\n",
    "results = []"
   ]
  },
  {
   "cell_type": "code",
   "execution_count": null,
   "metadata": {},
   "outputs": [],
   "source": [
    "for FFA_size in FFA_sizes:\n",
    "    feature_train = generate_feature(Ids_train,transform,FFA_size,color,feature_model)\n",
    "    feature_val = generate_feature(Ids_val,transform,FFA_size,color,feature_model)\n",
    "    for aggFun in aggFuns:\n",
    "        predicts = loop_distance(feature_train,feature_val,l2_distance_np,aggFun)\n",
    "        mapping_dict = dict(zip(Ids_train.Id.values,Ids_train.index.values))\n",
    "        labels = Ids_val.Id.map(mapping_dict)\n",
    "        score = MAP(labels,predicts)\n",
    "        print([FFA_size,aggFun.keywords,score])\n",
    "        results.append([FFA_size,aggFun.keywords,score])"
   ]
  },
  {
   "cell_type": "code",
   "execution_count": null,
   "metadata": {},
   "outputs": [],
   "source": [
    "# outputs \n",
    "[4, {'q': 0.1, 'axis': (1, 2)}, 0.0707482993197279]\n",
    "[4, {'q': 0.25, 'axis': (1, 2)}, 0.05867346938775512]\n",
    "[4, {'q': 0.5, 'axis': (1, 2)}, 0.0367965367965368]\n",
    "[4, {'axis': (1, 2)}, 0.03235930735930736]\n",
    "[8, {'q': 0.1, 'axis': (1, 2)}, 0.06657390228818802]\n",
    "[8, {'q': 0.25, 'axis': (1, 2)}, 0.05171614100185529]\n",
    "[8, {'q': 0.5, 'axis': (1, 2)}, 0.035219542362399506]\n",
    "[8, {'axis': (1, 2)}, 0.029870129870129873]"
   ]
  },
  {
   "cell_type": "code",
   "execution_count": null,
   "metadata": {},
   "outputs": [],
   "source": []
  },
  {
   "cell_type": "code",
   "execution_count": null,
   "metadata": {},
   "outputs": [],
   "source": []
  },
  {
   "cell_type": "code",
   "execution_count": 6,
   "metadata": {},
   "outputs": [],
   "source": [
    "aggFuns = [partial(np.quantile,q=pct,axis=(1,2)) for pct in [0.1,0.25]] + [partial(np.min,axis=(1,2))]    "
   ]
  },
  {
   "cell_type": "code",
   "execution_count": 7,
   "metadata": {},
   "outputs": [],
   "source": [
    "FFA_sizes = [4,8]\n",
    "results = []"
   ]
  },
  {
   "cell_type": "code",
   "execution_count": 8,
   "metadata": {},
   "outputs": [
    {
     "name": "stdout",
     "output_type": "stream",
     "text": [
      "[4, {'q': 0.1, 'axis': (1, 2)}, 0.06901669758812615]\n",
      "[4, {'q': 0.25, 'axis': (1, 2)}, 0.061750154607297464]\n",
      "[4, {'axis': (1, 2)}, 0.06524427952999381]\n",
      "[8, {'q': 0.1, 'axis': (1, 2)}, 0.07121212121212123]\n",
      "[8, {'q': 0.25, 'axis': (1, 2)}, 0.051978973407544836]\n",
      "[8, {'axis': (1, 2)}, 0.06589363017934448]\n"
     ]
    }
   ],
   "source": [
    "for FFA_size in FFA_sizes:\n",
    "    feature_train = generate_feature(Ids_train,transform,FFA_size,color,feature_model)\n",
    "    feature_val = generate_feature(Ids_val,transform,FFA_size,color,feature_model)\n",
    "    for aggFun in aggFuns:\n",
    "        predicts = loop_distance(feature_train,feature_val,l2_distance_np,aggFun)\n",
    "        mapping_dict = dict(zip(Ids_train.Id.values,Ids_train.index.values))\n",
    "        labels = Ids_val.Id.map(mapping_dict)\n",
    "        score = MAP(labels,predicts)\n",
    "        print([FFA_size,aggFun.keywords,score])\n",
    "        results.append([FFA_size,aggFun.keywords,score])"
   ]
  },
  {
   "cell_type": "code",
   "execution_count": null,
   "metadata": {},
   "outputs": [],
   "source": []
  },
  {
   "cell_type": "code",
   "execution_count": null,
   "metadata": {},
   "outputs": [],
   "source": []
  },
  {
   "cell_type": "code",
   "execution_count": null,
   "metadata": {},
   "outputs": [],
   "source": []
  },
  {
   "cell_type": "markdown",
   "metadata": {},
   "source": [
    "TTA = 4\n",
    "\n",
    "Models/feature_model_DenseNet_greyscale.h5"
   ]
  },
  {
   "cell_type": "code",
   "execution_count": 23,
   "metadata": {},
   "outputs": [
    {
     "name": "stdout",
     "output_type": "stream",
     "text": [
      "0.03713667285095857\n"
     ]
    }
   ],
   "source": [
    "feature_train = generate_feature(Ids_train,transform,FFA_size,color,feature_model)\n",
    "feature_val = generate_feature(Ids_val,transform,FFA_size,color,feature_model)\n",
    "predicts = loop_distance(feature_train,feature_val,l2_distance_np)\n",
    "mapping_dict = dict(zip(Ids_train.Id.values,Ids_train.index.values))\n",
    "labels = Ids_val.Id.map(mapping_dict)\n",
    "score = MAP(labels,predicts)\n",
    "print(score)"
   ]
  },
  {
   "cell_type": "code",
   "execution_count": 25,
   "metadata": {},
   "outputs": [],
   "source": [
    "# change mean to median\n",
    "def loop_distance(feature_train,feature_val,distanceFun,returnValue=False,k=5):\n",
    "    feature_train = feature_train[:,:,np.newaxis,:]\n",
    "    index_list = []\n",
    "    if returnValue:\n",
    "        value_list = []\n",
    "\n",
    "    for feature in feature_val:\n",
    "        feature = feature[np.newaxis,np.newaxis,:,:]\n",
    "        d = np.median(distanceFun(feature_train,feature),(1,2))\n",
    "        if returnValue:\n",
    "            index,value = top_k(d,k=k,returnValue=returnValue)\n",
    "            index_list.append(index)\n",
    "            value_list.append(value)\n",
    "        else:\n",
    "            index = top_k(d,k=k,returnValue=returnValue)\n",
    "            index_list.append(index)\n",
    "\n",
    "    if returnValue:\n",
    "        return np.array(index_list),np.array(value_list)\n",
    "    else:\n",
    "        return np.array(index_list)"
   ]
  },
  {
   "cell_type": "code",
   "execution_count": 26,
   "metadata": {},
   "outputs": [
    {
     "name": "stdout",
     "output_type": "stream",
     "text": [
      "0.04282622139764997\n"
     ]
    }
   ],
   "source": [
    "predicts = loop_distance(feature_train,feature_val,l2_distance_np)\n",
    "mapping_dict = dict(zip(Ids_train.Id.values,Ids_train.index.values))\n",
    "labels = Ids_val.Id.map(mapping_dict)\n",
    "score = MAP(labels,predicts)\n",
    "print(score)"
   ]
  },
  {
   "cell_type": "code",
   "execution_count": 27,
   "metadata": {},
   "outputs": [],
   "source": [
    "# change mean to 0.25 quantile\n",
    "def loop_distance(feature_train,feature_val,distanceFun,returnValue=False,k=5):\n",
    "    feature_train = feature_train[:,:,np.newaxis,:]\n",
    "    index_list = []\n",
    "    if returnValue:\n",
    "        value_list = []\n",
    "\n",
    "    for feature in feature_val:\n",
    "        feature = feature[np.newaxis,np.newaxis,:,:]\n",
    "        d = np.quantile(distanceFun(feature_train,feature),0.25,(1,2))\n",
    "        if returnValue:\n",
    "            index,value = top_k(d,k=k,returnValue=returnValue)\n",
    "            index_list.append(index)\n",
    "            value_list.append(value)\n",
    "        else:\n",
    "            index = top_k(d,k=k,returnValue=returnValue)\n",
    "            index_list.append(index)\n",
    "\n",
    "    if returnValue:\n",
    "        return np.array(index_list),np.array(value_list)\n",
    "    else:\n",
    "        return np.array(index_list)"
   ]
  },
  {
   "cell_type": "code",
   "execution_count": 28,
   "metadata": {},
   "outputs": [
    {
     "name": "stdout",
     "output_type": "stream",
     "text": [
      "0.059863945578231305\n"
     ]
    }
   ],
   "source": [
    "predicts = loop_distance(feature_train,feature_val,l2_distance_np)\n",
    "mapping_dict = dict(zip(Ids_train.Id.values,Ids_train.index.values))\n",
    "labels = Ids_val.Id.map(mapping_dict)\n",
    "score = MAP(labels,predicts)\n",
    "print(score)"
   ]
  },
  {
   "cell_type": "code",
   "execution_count": 29,
   "metadata": {},
   "outputs": [],
   "source": [
    "# change mean to 0.75 quantile\n",
    "def loop_distance(feature_train,feature_val,distanceFun,returnValue=False,k=5):\n",
    "    feature_train = feature_train[:,:,np.newaxis,:]\n",
    "    index_list = []\n",
    "    if returnValue:\n",
    "        value_list = []\n",
    "\n",
    "    for feature in feature_val:\n",
    "        feature = feature[np.newaxis,np.newaxis,:,:]\n",
    "        d = np.quantile(distanceFun(feature_train,feature),0.75,(1,2))\n",
    "        if returnValue:\n",
    "            index,value = top_k(d,k=k,returnValue=returnValue)\n",
    "            index_list.append(index)\n",
    "            value_list.append(value)\n",
    "        else:\n",
    "            index = top_k(d,k=k,returnValue=returnValue)\n",
    "            index_list.append(index)\n",
    "\n",
    "    if returnValue:\n",
    "        return np.array(index_list),np.array(value_list)\n",
    "    else:\n",
    "        return np.array(index_list)"
   ]
  },
  {
   "cell_type": "code",
   "execution_count": 30,
   "metadata": {},
   "outputs": [
    {
     "name": "stdout",
     "output_type": "stream",
     "text": [
      "0.03073593073593074\n"
     ]
    }
   ],
   "source": [
    "predicts = loop_distance(feature_train,feature_val,l2_distance_np)\n",
    "mapping_dict = dict(zip(Ids_train.Id.values,Ids_train.index.values))\n",
    "labels = Ids_val.Id.map(mapping_dict)\n",
    "score = MAP(labels,predicts)\n",
    "print(score)"
   ]
  },
  {
   "cell_type": "code",
   "execution_count": 39,
   "metadata": {},
   "outputs": [],
   "source": [
    "# change mean to 0.1 quantile\n",
    "def loop_distance(feature_train,feature_val,distanceFun,returnValue=False,k=5):\n",
    "    feature_train = feature_train[:,:,np.newaxis,:]\n",
    "    index_list = []\n",
    "    if returnValue:\n",
    "        value_list = []\n",
    "\n",
    "    for feature in feature_val:\n",
    "        feature = feature[np.newaxis,np.newaxis,:,:]\n",
    "        d = np.quantile(distanceFun(feature_train,feature),0.1,(1,2))\n",
    "        if returnValue:\n",
    "            index,value = top_k(d,k=k,returnValue=returnValue)\n",
    "            index_list.append(index)\n",
    "            value_list.append(value)\n",
    "        else:\n",
    "            index = top_k(d,k=k,returnValue=returnValue)\n",
    "            index_list.append(index)\n",
    "\n",
    "    if returnValue:\n",
    "        return np.array(index_list),np.array(value_list)\n",
    "    else:\n",
    "        return np.array(index_list)"
   ]
  },
  {
   "cell_type": "code",
   "execution_count": 40,
   "metadata": {},
   "outputs": [
    {
     "name": "stdout",
     "output_type": "stream",
     "text": [
      "0.07564935064935066\n"
     ]
    }
   ],
   "source": [
    "predicts = loop_distance(feature_train,feature_val,l2_distance_np)\n",
    "mapping_dict = dict(zip(Ids_train.Id.values,Ids_train.index.values))\n",
    "labels = Ids_val.Id.map(mapping_dict)\n",
    "score = MAP(labels,predicts)\n",
    "print(score)"
   ]
  },
  {
   "cell_type": "code",
   "execution_count": null,
   "metadata": {},
   "outputs": [],
   "source": []
  },
  {
   "cell_type": "code",
   "execution_count": null,
   "metadata": {},
   "outputs": [],
   "source": []
  },
  {
   "cell_type": "code",
   "execution_count": null,
   "metadata": {},
   "outputs": [],
   "source": []
  }
 ],
 "metadata": {
  "kernelspec": {
   "display_name": "Python 3",
   "language": "python",
   "name": "python3"
  },
  "language_info": {
   "codemirror_mode": {
    "name": "ipython",
    "version": 3
   },
   "file_extension": ".py",
   "mimetype": "text/x-python",
   "name": "python",
   "nbconvert_exporter": "python",
   "pygments_lexer": "ipython3",
   "version": "3.6.6"
  }
 },
 "nbformat": 4,
 "nbformat_minor": 2
}
