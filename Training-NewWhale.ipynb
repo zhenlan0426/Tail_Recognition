{
 "cells": [
  {
   "cell_type": "code",
   "execution_count": 1,
   "metadata": {},
   "outputs": [],
   "source": [
    "import pickle\n",
    "from albumentations import ShiftScaleRotate,Cutout,RandomContrast,RandomBrightness,Compose\n",
    "from utility.albumentations_helper import create_transform\n",
    "from utility.others import clear_all\n",
    "import time\n",
    "from functions import NewWhaleGenerator,create_newWhale_model\n",
    "from utility.grayscale_DenseNet import DenseNet_greyscale\n",
    "import tensorflow as tf\n",
    "import numpy as np\n",
    "from tensorflow.keras.models import load_model\n",
    "#from tensorflow.keras.applications import DenseNet121"
   ]
  },
  {
   "cell_type": "code",
   "execution_count": 2,
   "metadata": {},
   "outputs": [],
   "source": [
    "color = False\n",
    "shapes = (224,224,1)\n",
    "HalfBatch = 8"
   ]
  },
  {
   "cell_type": "code",
   "execution_count": null,
   "metadata": {},
   "outputs": [],
   "source": []
  },
  {
   "cell_type": "markdown",
   "metadata": {},
   "source": [
    "### set up generator"
   ]
  },
  {
   "cell_type": "code",
   "execution_count": 3,
   "metadata": {},
   "outputs": [],
   "source": [
    "if color:\n",
    "    with open('/home/will/Desktop/kaggle/Whale/train_df_color.pkl', 'rb') as f:\n",
    "        Ids_train = pickle.load(f)\n",
    "    with open('/home/will/Desktop/kaggle/Whale/new_whale_train_color.pkl', 'rb') as f:\n",
    "        newWhale_train = pickle.load(f)\n",
    "    with open('/home/will/Desktop/kaggle/Whale/val_df_color.pkl', 'rb') as f:\n",
    "        Ids_val = pickle.load(f)\n",
    "    with open('/home/will/Desktop/kaggle/Whale/new_whale_val_color.pkl', 'rb') as f:\n",
    "        newWhale_val = pickle.load(f)\n",
    "else:\n",
    "    with open('/home/will/Desktop/kaggle/Whale/train_df.pkl', 'rb') as f:\n",
    "        Ids_train = pickle.load(f)\n",
    "    with open('/home/will/Desktop/kaggle/Whale/new_whale_train.pkl', 'rb') as f:\n",
    "        newWhale_train = pickle.load(f)\n",
    "    with open('/home/will/Desktop/kaggle/Whale/val_df.pkl', 'rb') as f:\n",
    "        Ids_val = pickle.load(f)\n",
    "    with open('/home/will/Desktop/kaggle/Whale/new_whale_val.pkl', 'rb') as f:\n",
    "        newWhale_val = pickle.load(f)"
   ]
  },
  {
   "cell_type": "code",
   "execution_count": 4,
   "metadata": {},
   "outputs": [],
   "source": [
    "aug = Compose([RandomContrast(p=0.2),RandomBrightness(p=0.2),\n",
    "                ShiftScaleRotate(shift_limit=0.03,rotate_limit=15,scale_limit=0.02,p=1),Cutout(p=1)])\n",
    "transform = create_transform(aug)  \n",
    "\n",
    "aug_test = Compose([RandomContrast(p=0.2),RandomBrightness(p=0.2),\n",
    "                ShiftScaleRotate(shift_limit=0.03,rotate_limit=15,scale_limit=0.02,p=1)])\n",
    "transform_test = create_transform(aug_test)    \n",
    "\n",
    "gen_train = NewWhaleGenerator(Ids_train.Imgs.tolist(),newWhale_train,transform,HalfBatch=HalfBatch)\n",
    "gen_val = NewWhaleGenerator(Ids_val.Imgs.tolist(),newWhale_val,transform_test,HalfBatch=HalfBatch)"
   ]
  },
  {
   "cell_type": "code",
   "execution_count": null,
   "metadata": {},
   "outputs": [],
   "source": []
  },
  {
   "cell_type": "markdown",
   "metadata": {},
   "source": [
    "### build model"
   ]
  },
  {
   "cell_type": "code",
   "execution_count": 5,
   "metadata": {},
   "outputs": [],
   "source": [
    "feature_model = load_model('Models/feature_model_DenseNet_Triplet_BN_MLP.h5')"
   ]
  },
  {
   "cell_type": "code",
   "execution_count": 6,
   "metadata": {},
   "outputs": [],
   "source": [
    "conv_base = feature_model.layers[0]"
   ]
  },
  {
   "cell_type": "code",
   "execution_count": 7,
   "metadata": {},
   "outputs": [],
   "source": [
    "conv_base.trainable = False"
   ]
  },
  {
   "cell_type": "code",
   "execution_count": 8,
   "metadata": {
    "scrolled": false
   },
   "outputs": [],
   "source": [
    "train_model = create_newWhale_model(1e-3,conv_base,nodes=[1024,1])"
   ]
  },
  {
   "cell_type": "code",
   "execution_count": null,
   "metadata": {},
   "outputs": [],
   "source": []
  },
  {
   "cell_type": "markdown",
   "metadata": {},
   "source": [
    "### training"
   ]
  },
  {
   "cell_type": "code",
   "execution_count": 9,
   "metadata": {},
   "outputs": [
    {
     "name": "stdout",
     "output_type": "stream",
     "text": [
      "Epoch 1/5\n",
      "625/625 [==============================] - 36s 58ms/step - loss: 0.8093 - acc: 0.5781 - val_loss: 0.6732 - val_acc: 0.6105\n",
      "Epoch 2/5\n",
      "625/625 [==============================] - 30s 48ms/step - loss: 0.6543 - acc: 0.6271 - val_loss: 0.6940 - val_acc: 0.5858\n",
      "Epoch 3/5\n",
      "625/625 [==============================] - 30s 48ms/step - loss: 0.6428 - acc: 0.6391 - val_loss: 0.6212 - val_acc: 0.6516\n",
      "Epoch 4/5\n",
      "625/625 [==============================] - 30s 48ms/step - loss: 0.6425 - acc: 0.6365 - val_loss: 0.6811 - val_acc: 0.5611\n",
      "Epoch 5/5\n",
      "625/625 [==============================] - 30s 48ms/step - loss: 0.6361 - acc: 0.6465 - val_loss: 0.6350 - val_acc: 0.6525\n",
      "time:155.75570154190063\n"
     ]
    }
   ],
   "source": [
    "# conv_base = DenseNet_greyscale(121,(224,224,1),'max',False)\n",
    "# train_model,feature_model = create_model2(1e-3,margin_loss_fun_factory(0.1,5),conv_base,color)\n",
    "start = time.time()\n",
    "history = train_model.fit_generator(\n",
    "          gen_train,\n",
    "          validation_data = gen_val,\n",
    "          epochs=5,\n",
    "          use_multiprocessing=True,workers=2,max_queue_size=20)\n",
    "end = time.time()\n",
    "print('time:{}'.format(end - start))"
   ]
  },
  {
   "cell_type": "code",
   "execution_count": null,
   "metadata": {},
   "outputs": [],
   "source": []
  },
  {
   "cell_type": "markdown",
   "metadata": {},
   "source": [
    "Fine-Tune"
   ]
  },
  {
   "cell_type": "code",
   "execution_count": 10,
   "metadata": {
    "scrolled": true
   },
   "outputs": [],
   "source": [
    "conv_base.trainable=True"
   ]
  },
  {
   "cell_type": "code",
   "execution_count": 11,
   "metadata": {},
   "outputs": [],
   "source": [
    "train = False\n",
    "for layer in train_model.layers[1].layers:\n",
    "    if 'conv5' in layer.name:\n",
    "        train = True\n",
    "    layer.trainable = train"
   ]
  },
  {
   "cell_type": "code",
   "execution_count": 12,
   "metadata": {},
   "outputs": [],
   "source": [
    "train_model.compile(loss='binary_crossentropy',optimizer=tf.keras.optimizers.Adam(lr=1e-4))"
   ]
  },
  {
   "cell_type": "code",
   "execution_count": 13,
   "metadata": {},
   "outputs": [
    {
     "name": "stdout",
     "output_type": "stream",
     "text": [
      "Epoch 1/2\n",
      "625/625 [==============================] - 48s 77ms/step - loss: 0.5952 - val_loss: 0.5997\n",
      "Epoch 2/2\n",
      "625/625 [==============================] - 39s 63ms/step - loss: 0.5756 - val_loss: 0.5977\n",
      "time:91.52348232269287\n"
     ]
    }
   ],
   "source": [
    "start = time.time()\n",
    "history = train_model.fit_generator(\n",
    "          gen_train,\n",
    "          validation_data = gen_val,\n",
    "          epochs=2,\n",
    "          use_multiprocessing=True,workers=2,max_queue_size=20)\n",
    "end = time.time()\n",
    "print('time:{}'.format(end - start))"
   ]
  },
  {
   "cell_type": "code",
   "execution_count": null,
   "metadata": {},
   "outputs": [],
   "source": []
  },
  {
   "cell_type": "code",
   "execution_count": 14,
   "metadata": {},
   "outputs": [],
   "source": [
    "train_model.save('Models/NewWhale.h5')"
   ]
  },
  {
   "cell_type": "code",
   "execution_count": null,
   "metadata": {},
   "outputs": [],
   "source": []
  },
  {
   "cell_type": "code",
   "execution_count": null,
   "metadata": {},
   "outputs": [],
   "source": []
  }
 ],
 "metadata": {
  "kernelspec": {
   "display_name": "Python 3",
   "language": "python",
   "name": "python3"
  },
  "language_info": {
   "codemirror_mode": {
    "name": "ipython",
    "version": 3
   },
   "file_extension": ".py",
   "mimetype": "text/x-python",
   "name": "python",
   "nbconvert_exporter": "python",
   "pygments_lexer": "ipython3",
   "version": "3.6.6"
  },
  "toc": {
   "base_numbering": 1,
   "nav_menu": {},
   "number_sections": true,
   "sideBar": true,
   "skip_h1_title": false,
   "title_cell": "Table of Contents",
   "title_sidebar": "Contents",
   "toc_cell": false,
   "toc_position": {},
   "toc_section_display": true,
   "toc_window_display": false
  }
 },
 "nbformat": 4,
 "nbformat_minor": 2
}
