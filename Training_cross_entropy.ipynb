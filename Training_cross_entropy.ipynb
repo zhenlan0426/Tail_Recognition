{
 "cells": [
  {
   "cell_type": "code",
   "execution_count": 1,
   "metadata": {},
   "outputs": [],
   "source": [
    "import pickle\n",
    "from albumentations import ShiftScaleRotate,Cutout,RandomContrast,RandomBrightness,Compose\n",
    "from utility.albumentations_helper import create_transform\n",
    "from utility.others import clear_all\n",
    "import time\n",
    "from functions import DataGenerator,PredictGenerator,create_model,dot_distance,exp_loss,\\\n",
    "                        sigmoid_dot_distance,dot_sigmoid_distance,cross_entropy_loss,l2_distance,\\\n",
    "                        margin_loss_fun_factory,Xception_reduced,dot_distance_neg,FineTune\n",
    "from utility.grayscale_imagenet import Xception_greyscale\n",
    "from utility.grayscale_DenseNet import DenseNet_greyscale\n",
    "import tensorflow as tf\n",
    "import numpy as np\n",
    "from tensorflow.keras.models import load_model\n",
    "#from tensorflow.keras.applications import DenseNet121"
   ]
  },
  {
   "cell_type": "code",
   "execution_count": 2,
   "metadata": {},
   "outputs": [],
   "source": [
    "# constant that unlikely to change\n",
    "color = False\n",
    "shapes = (224,224,1)\n",
    "HalfBatch = 4"
   ]
  },
  {
   "cell_type": "code",
   "execution_count": null,
   "metadata": {},
   "outputs": [],
   "source": []
  },
  {
   "cell_type": "code",
   "execution_count": null,
   "metadata": {},
   "outputs": [],
   "source": []
  },
  {
   "cell_type": "markdown",
   "metadata": {},
   "source": [
    "### set up generator"
   ]
  },
  {
   "cell_type": "code",
   "execution_count": 3,
   "metadata": {},
   "outputs": [],
   "source": [
    "with open('/home/will/Desktop/kaggle/Whale/train_df.pkl', 'rb') as f:\n",
    "    Ids_train = pickle.load(f)\n",
    "with open('/home/will/Desktop/kaggle/Whale/new_whale_train.pkl', 'rb') as f:\n",
    "    newWhale_train = pickle.load(f)\n",
    "with open('/home/will/Desktop/kaggle/Whale/val_df.pkl', 'rb') as f:\n",
    "    Ids_val = pickle.load(f)\n",
    "with open('/home/will/Desktop/kaggle/Whale/new_whale_val.pkl', 'rb') as f:\n",
    "    newWhale_val = pickle.load(f)"
   ]
  },
  {
   "cell_type": "code",
   "execution_count": 4,
   "metadata": {},
   "outputs": [],
   "source": [
    "aug = Compose([RandomContrast(p=0.2),RandomBrightness(p=0.2),\n",
    "                ShiftScaleRotate(shift_limit=0.03,rotate_limit=15,scale_limit=0.02,p=1),Cutout(p=0.5)])\n",
    "transform = create_transform(aug)  \n",
    "\n",
    "aug_test = Compose([RandomContrast(p=0.2),RandomBrightness(p=0.2),\n",
    "                ShiftScaleRotate(shift_limit=0.03,rotate_limit=15,scale_limit=0.02,p=1)])\n",
    "transform_test = create_transform(aug_test)    \n",
    "\n",
    "gen_train = DataGenerator(Ids_train,newWhale_train,transform,color=color,HalfBatch=HalfBatch)\n",
    "gen_val = DataGenerator(Ids_val,newWhale_val,transform_test,color=color,HalfBatch=HalfBatch)"
   ]
  },
  {
   "cell_type": "code",
   "execution_count": null,
   "metadata": {},
   "outputs": [],
   "source": []
  },
  {
   "cell_type": "markdown",
   "metadata": {},
   "source": [
    "### build model"
   ]
  },
  {
   "cell_type": "code",
   "execution_count": 5,
   "metadata": {
    "scrolled": false
   },
   "outputs": [],
   "source": [
    "conv_base = DenseNet_greyscale(121,(224,224,1),'max',False)\n",
    "#conv_base = Xception_greyscale((256,256,1),'max',False)\n",
    "# conv_base = Xception_reduced((256,256,1))"
   ]
  },
  {
   "cell_type": "code",
   "execution_count": 6,
   "metadata": {
    "scrolled": false
   },
   "outputs": [],
   "source": [
    "train_model,feature_model = create_model(1e-3,dot_distance_neg,cross_entropy_loss,\\\n",
    "                                         conv_base,color,[512],[None])"
   ]
  },
  {
   "cell_type": "code",
   "execution_count": null,
   "metadata": {},
   "outputs": [],
   "source": []
  },
  {
   "cell_type": "markdown",
   "metadata": {},
   "source": [
    "### training"
   ]
  },
  {
   "cell_type": "code",
   "execution_count": 18,
   "metadata": {},
   "outputs": [
    {
     "name": "stdout",
     "output_type": "stream",
     "text": [
      "Epoch 1/40\n",
      "1667/1667 [==============================] - 110s 66ms/step - loss: 0.5000 - val_loss: 3.6906\n",
      "Epoch 2/40\n",
      "1667/1667 [==============================] - 101s 60ms/step - loss: 0.5018 - val_loss: 3.2417\n",
      "Epoch 3/40\n",
      "1667/1667 [==============================] - 101s 61ms/step - loss: 0.5264 - val_loss: 4.5342\n",
      "Epoch 4/40\n",
      "1667/1667 [==============================] - 101s 61ms/step - loss: 0.5291 - val_loss: 4.8114\n",
      "Epoch 5/40\n",
      "1667/1667 [==============================] - 101s 60ms/step - loss: 0.5459 - val_loss: 4.7852\n",
      "Epoch 6/40\n",
      "1667/1667 [==============================] - 108s 64ms/step - loss: 0.5460 - val_loss: 5.1331\n",
      "Epoch 7/40\n",
      "1666/1667 [============================>.] - ETA: 0s - loss: 0.5546reduce lr at epoch:6\n",
      "1667/1667 [==============================] - 121s 73ms/step - loss: 0.5543 - val_loss: 4.8775\n",
      "Epoch 8/40\n",
      "1667/1667 [==============================] - 175s 105ms/step - loss: 0.3994 - val_loss: 4.1507\n",
      "Epoch 9/40\n",
      "1667/1667 [==============================] - 152s 91ms/step - loss: 0.3573 - val_loss: 3.2967\n",
      "Epoch 10/40\n",
      "1667/1667 [==============================] - 152s 91ms/step - loss: 0.3394 - val_loss: 2.8332\n",
      "Epoch 11/40\n",
      "1667/1667 [==============================] - 152s 91ms/step - loss: 0.3241 - val_loss: 3.4940\n",
      "Epoch 12/40\n",
      "1667/1667 [==============================] - 152s 91ms/step - loss: 0.3140 - val_loss: 3.3593\n",
      "Epoch 13/40\n",
      "1667/1667 [==============================] - 156s 94ms/step - loss: 0.3058 - val_loss: 2.3779\n",
      "Epoch 14/40\n",
      "1667/1667 [==============================] - 152s 91ms/step - loss: 0.2954 - val_loss: 3.0630\n",
      "Epoch 15/40\n",
      "1667/1667 [==============================] - 186s 111ms/step - loss: 0.2864 - val_loss: 2.6621\n",
      "Epoch 16/40\n",
      "1667/1667 [==============================] - 216s 130ms/step - loss: 0.2729 - val_loss: 2.6640\n",
      "Epoch 17/40\n",
      "1667/1667 [==============================] - 215s 129ms/step - loss: 0.2820 - val_loss: 3.2279\n",
      "Epoch 18/40\n",
      "1666/1667 [============================>.] - ETA: 0s - loss: 0.2654reduce lr at epoch:17\n",
      "1667/1667 [==============================] - 215s 129ms/step - loss: 0.2655 - val_loss: 3.4784\n",
      "Epoch 19/40\n",
      "1667/1667 [==============================] - 360s 216ms/step - loss: 0.2340 - val_loss: 3.0240\n",
      "Epoch 20/40\n",
      "1667/1667 [==============================] - 315s 189ms/step - loss: 0.2145 - val_loss: 2.7611\n",
      "Epoch 21/40\n",
      "1667/1667 [==============================] - 319s 191ms/step - loss: 0.2002 - val_loss: 2.2976\n",
      "Epoch 22/40\n",
      "1667/1667 [==============================] - 314s 189ms/step - loss: 0.1999 - val_loss: 2.9817\n",
      "Epoch 23/40\n",
      "1667/1667 [==============================] - 315s 189ms/step - loss: 0.1937 - val_loss: 2.6496\n",
      "Epoch 24/40\n",
      "1667/1667 [==============================] - 317s 190ms/step - loss: 0.1894 - val_loss: 2.0253\n",
      "Epoch 25/40\n",
      "1667/1667 [==============================] - 314s 189ms/step - loss: 0.1699 - val_loss: 2.2582\n",
      "Epoch 26/40\n",
      "1667/1667 [==============================] - 314s 188ms/step - loss: 0.1762 - val_loss: 2.0280\n",
      "Epoch 27/40\n",
      "1667/1667 [==============================] - 317s 190ms/step - loss: 0.1711 - val_loss: 2.5803\n",
      "Epoch 28/40\n",
      "1667/1667 [==============================] - 314s 189ms/step - loss: 0.1575 - val_loss: 2.2139\n",
      "Epoch 29/40\n",
      "1666/1667 [============================>.] - ETA: 0s - loss: 0.1527reduce lr at epoch:28\n",
      "1667/1667 [==============================] - 315s 189ms/step - loss: 0.1528 - val_loss: 2.3744\n",
      "Epoch 30/40\n",
      "1667/1667 [==============================] - 467s 280ms/step - loss: 0.1389 - val_loss: 1.5718\n",
      "Epoch 31/40\n",
      "1667/1667 [==============================] - 404s 242ms/step - loss: 0.1290 - val_loss: 2.2454\n",
      "Epoch 32/40\n",
      "1667/1667 [==============================] - 404s 242ms/step - loss: 0.1169 - val_loss: 1.8544\n",
      "Epoch 33/40\n",
      "1667/1667 [==============================] - 404s 242ms/step - loss: 0.1292 - val_loss: 2.0138\n",
      "Epoch 34/40\n",
      "1667/1667 [==============================] - 404s 242ms/step - loss: 0.1225 - val_loss: 1.7093\n",
      "Epoch 35/40\n",
      "1666/1667 [============================>.] - ETA: 0s - loss: 0.1136reduce lr at epoch:34\n",
      "1667/1667 [==============================] - 404s 243ms/step - loss: 0.1135 - val_loss: 2.0374\n",
      "Epoch 36/40\n",
      "1667/1667 [==============================] - 590s 354ms/step - loss: 0.1151 - val_loss: 1.9202\n",
      "Epoch 37/40\n",
      "1667/1667 [==============================] - 516s 310ms/step - loss: 0.1056 - val_loss: 1.9135\n",
      "Epoch 38/40\n",
      "1667/1667 [==============================] - 518s 311ms/step - loss: 0.1112 - val_loss: 1.9953\n",
      "Epoch 39/40\n",
      "1667/1667 [==============================] - 520s 312ms/step - loss: 0.1090 - val_loss: 1.9379\n",
      "Epoch 40/40\n",
      "1666/1667 [============================>.] - ETA: 0s - loss: 0.1086stoped training at epoch:39\n",
      "1667/1667 [==============================] - 521s 312ms/step - loss: 0.1086 - val_loss: 2.2678\n",
      "time:11333.168945789337\n"
     ]
    }
   ],
   "source": [
    "# conv_base = DenseNet_greyscale(121,(224,224,1),'max',False)\n",
    "# train_model,feature_model = create_model(1e-3,dot_distance_neg,cross_entropy_loss,\\\n",
    "#                                          conv_base,color,[512],[None])\n",
    "start = time.time()\n",
    "history = train_model.fit_generator(\n",
    "          gen_train,\n",
    "          validation_data = gen_val,\n",
    "          epochs=40,\n",
    "          use_multiprocessing=True,workers=2,max_queue_size=20,\n",
    "          callbacks=[FineTune(['conv5','conv4','conv3','conv2'],\n",
    "                              cross_entropy_loss,\n",
    "                              tf.keras.optimizers.Adam,\n",
    "                              save_model=['Models/DenseNet_cross_entropy_fine_tune.h5',\\\n",
    "                                          'Models/DenseNet_feature_cross_entropy_fine_tune.h5'])])\n",
    "end = time.time()\n",
    "print('time:{}'.format(end - start))"
   ]
  },
  {
   "cell_type": "code",
   "execution_count": 20,
   "metadata": {},
   "outputs": [
    {
     "data": {
      "text/plain": [
       "3.1481024849414827"
      ]
     },
     "execution_count": 20,
     "metadata": {},
     "output_type": "execute_result"
    }
   ],
   "source": [
    "11333.168945789337/60/60"
   ]
  },
  {
   "cell_type": "code",
   "execution_count": null,
   "metadata": {},
   "outputs": [],
   "source": []
  },
  {
   "cell_type": "code",
   "execution_count": null,
   "metadata": {},
   "outputs": [],
   "source": []
  },
  {
   "cell_type": "code",
   "execution_count": null,
   "metadata": {},
   "outputs": [],
   "source": []
  },
  {
   "cell_type": "code",
   "execution_count": null,
   "metadata": {},
   "outputs": [],
   "source": []
  },
  {
   "cell_type": "code",
   "execution_count": null,
   "metadata": {},
   "outputs": [],
   "source": []
  },
  {
   "cell_type": "code",
   "execution_count": 9,
   "metadata": {},
   "outputs": [
    {
     "name": "stdout",
     "output_type": "stream",
     "text": [
      "Epoch 1/5\n",
      "713/713 [==============================] - 72s 102ms/step - loss: 0.5547 - val_loss: 2.4872\n",
      "Epoch 2/5\n",
      "713/713 [==============================] - 63s 88ms/step - loss: 0.5334 - val_loss: 2.4161\n",
      "Epoch 3/5\n",
      "713/713 [==============================] - 84s 118ms/step - loss: 0.5455 - val_loss: 2.4620\n",
      "Epoch 4/5\n",
      "713/713 [==============================] - 126s 176ms/step - loss: 0.5531 - val_loss: 2.2825\n",
      "Epoch 5/5\n",
      "713/713 [==============================] - 125s 175ms/step - loss: 0.5538 - val_loss: 2.8859\n",
      "time:470.37463998794556\n"
     ]
    }
   ],
   "source": [
    "# conv_base = DenseNet_greyscale(121,(224,224,1),'max',False)\n",
    "# train_model,feature_model = create_model(1e-3,dot_distance_neg,cross_entropy_loss,\\\n",
    "#                                          conv_base,color,[512],[None])\n",
    "start = time.time()\n",
    "history = train_model.fit_generator(\n",
    "          gen_train,\n",
    "          validation_data = gen_val,\n",
    "          epochs=5,\n",
    "          use_multiprocessing=True,workers=2,max_queue_size=20)\n",
    "end = time.time()\n",
    "print('time:{}'.format(end - start))"
   ]
  },
  {
   "cell_type": "code",
   "execution_count": null,
   "metadata": {},
   "outputs": [],
   "source": []
  },
  {
   "cell_type": "markdown",
   "metadata": {},
   "source": [
    "Fine-Tune"
   ]
  },
  {
   "cell_type": "code",
   "execution_count": 10,
   "metadata": {},
   "outputs": [],
   "source": [
    "feature_model.layers[0].trainable=True\n",
    "\n",
    "train = False\n",
    "for layer in feature_model.layers[0].layers:\n",
    "    if 'conv5' in layer.name:\n",
    "        train = True\n",
    "    layer.trainable = train\n",
    "\n",
    "train_model.compile(loss=cross_entropy_loss,optimizer=tf.keras.optimizers.Adam(lr=5e-4))"
   ]
  },
  {
   "cell_type": "code",
   "execution_count": 13,
   "metadata": {},
   "outputs": [
    {
     "name": "stdout",
     "output_type": "stream",
     "text": [
      "Epoch 1/5\n",
      "713/713 [==============================] - 156s 219ms/step - loss: 0.5210 - val_loss: 2.0644\n",
      "Epoch 2/5\n",
      "713/713 [==============================] - 141s 198ms/step - loss: 0.4816 - val_loss: 1.7568\n",
      "Epoch 3/5\n",
      "713/713 [==============================] - 141s 198ms/step - loss: 0.4722 - val_loss: 1.8767\n",
      "Epoch 4/5\n",
      "713/713 [==============================] - 141s 198ms/step - loss: 0.4557 - val_loss: 1.9497\n",
      "Epoch 5/5\n",
      "713/713 [==============================] - 141s 198ms/step - loss: 0.4555 - val_loss: 1.4881\n",
      "time:725.0472626686096\n"
     ]
    }
   ],
   "source": [
    "start = time.time()\n",
    "history = train_model.fit_generator(\n",
    "          gen_train,\n",
    "          validation_data = gen_val,\n",
    "          epochs=5,\n",
    "          use_multiprocessing=True,workers=2,max_queue_size=20)\n",
    "end = time.time()\n",
    "print('time:{}'.format(end - start))"
   ]
  },
  {
   "cell_type": "code",
   "execution_count": 14,
   "metadata": {},
   "outputs": [],
   "source": [
    "train_model.save('Models/DenseNet_greyscale_cross_entropy.h5')\n",
    "feature_model.save('Models/feature_model_DenseNet_greyscale_cross_entropy.h5')"
   ]
  },
  {
   "cell_type": "code",
   "execution_count": null,
   "metadata": {},
   "outputs": [],
   "source": []
  },
  {
   "cell_type": "code",
   "execution_count": null,
   "metadata": {},
   "outputs": [],
   "source": []
  },
  {
   "cell_type": "code",
   "execution_count": 7,
   "metadata": {},
   "outputs": [
    {
     "name": "stdout",
     "output_type": "stream",
     "text": [
      "Epoch 1/10\n",
      "713/713 [==============================] - 248s 348ms/step - loss: -0.4861 - val_loss: -0.6561\n",
      "Epoch 2/10\n",
      "713/713 [==============================] - 246s 345ms/step - loss: -0.6663 - val_loss: -0.9618\n",
      "Epoch 3/10\n",
      "713/713 [==============================] - 246s 345ms/step - loss: -0.7361 - val_loss: -1.0430\n",
      "Epoch 4/10\n",
      "713/713 [==============================] - 261s 366ms/step - loss: -0.8041 - val_loss: -1.0988\n",
      "Epoch 5/10\n",
      "713/713 [==============================] - 270s 378ms/step - loss: -0.8884 - val_loss: -1.0215\n",
      "Epoch 6/10\n",
      "713/713 [==============================] - 272s 382ms/step - loss: -0.9159 - val_loss: -1.1343\n",
      "Epoch 7/10\n",
      "713/713 [==============================] - 368s 516ms/step - loss: -0.9585 - val_loss: -1.1587\n",
      "Epoch 8/10\n",
      "713/713 [==============================] - 369s 518ms/step - loss: -0.9702 - val_loss: -1.1007\n",
      "Epoch 9/10\n",
      "713/713 [==============================] - 371s 520ms/step - loss: -1.0204 - val_loss: -1.2200\n",
      "Epoch 10/10\n",
      "713/713 [==============================] - 369s 517ms/step - loss: -1.0334 - val_loss: -1.2264\n",
      "time:3022.2858798503876\n"
     ]
    }
   ],
   "source": [
    "# conv_base = Xception_reduced((256,256,1))\n",
    "# train_model,feature_model = create_model(1e-3,l2_distance,margin_loss_fun_factory(0.1,5),\\\n",
    "#                                         conv_base,color,[512,512],['relu',None])\n",
    "start = time.time()\n",
    "history = train_model.fit_generator(\n",
    "          gen_train,\n",
    "          validation_data = gen_val,\n",
    "          epochs=10,\n",
    "          use_multiprocessing=True,workers=2,max_queue_size=20)\n",
    "end = time.time()\n",
    "print('time:{}'.format(end - start))"
   ]
  },
  {
   "cell_type": "code",
   "execution_count": 9,
   "metadata": {},
   "outputs": [],
   "source": [
    "train_model.save('Models/train_model_create_model(1e-3,l2_distance,margin_loss_fun_factory(0.1,5),\\\n",
    "                                         Xception_reduced((256,256,1)),color,[512,512],[relu,None]).h5')\n",
    "feature_model.save('Models/feature_model_create_model(1e-3,l2_distance,margin_loss_fun_factory(0.1,5),\\\n",
    "                                         Xception_reduced((256,256,1)),color,[512,512],[relu,None]).h5')"
   ]
  },
  {
   "cell_type": "code",
   "execution_count": null,
   "metadata": {},
   "outputs": [],
   "source": []
  },
  {
   "cell_type": "code",
   "execution_count": 17,
   "metadata": {
    "scrolled": true
   },
   "outputs": [
    {
     "name": "stdout",
     "output_type": "stream",
     "text": [
      "Epoch 1/5\n",
      "713/714 [============================>.] - ETA: 0s - loss: 0.9346\n",
      "714/714 [==============================] - 165s 232ms/step - loss: 0.9346 - val_loss: 3.0979\n",
      "Epoch 2/5\n",
      "714/714 [==============================] - 165s 231ms/step - loss: 0.9273 - val_loss: 2.7641\n",
      "Epoch 3/5\n",
      "714/714 [==============================] - 165s 231ms/step - loss: 0.9310 - val_loss: 2.9462\n",
      "Epoch 4/5\n",
      "714/714 [==============================] - 165s 231ms/step - loss: 0.9089 - val_loss: 5.3465\n",
      "Epoch 5/5\n",
      "714/714 [==============================] - 165s 231ms/step - loss: 0.9125 - val_loss: 4.3415\n",
      "time:824.5533976554871\n"
     ]
    }
   ],
   "source": [
    "# create_model(5e-4,dot_distance,exp_loss,Xception_greyscale((256,256,1),'max',False),color)\n",
    "start = time.time()\n",
    "history = train_model.fit_generator(\n",
    "          gen_train,\n",
    "          validation_data = gen_val,\n",
    "          epochs=5,\n",
    "          use_multiprocessing=True,workers=2,max_queue_size=20)\n",
    "end = time.time()\n",
    "print('time:{}'.format(end - start))"
   ]
  },
  {
   "cell_type": "code",
   "execution_count": null,
   "metadata": {},
   "outputs": [],
   "source": []
  },
  {
   "cell_type": "code",
   "execution_count": 39,
   "metadata": {},
   "outputs": [],
   "source": [
    "# create_model(5e-2,dot_sigmoid_distance,exp_loss,Xception_greyscale((256,256,1),'max',False),color)\n",
    "# this just push everything to huge negative number. So after sigmoid all zero"
   ]
  },
  {
   "cell_type": "code",
   "execution_count": null,
   "metadata": {},
   "outputs": [],
   "source": []
  },
  {
   "cell_type": "code",
   "execution_count": 5,
   "metadata": {},
   "outputs": [],
   "source": [
    "# create_model(5e-4,sigmoid_dot_distance,exp_loss,Xception_greyscale((256,256,1),'max',False),color)\n",
    "# loss does not decrease"
   ]
  },
  {
   "cell_type": "code",
   "execution_count": null,
   "metadata": {},
   "outputs": [],
   "source": []
  },
  {
   "cell_type": "code",
   "execution_count": null,
   "metadata": {},
   "outputs": [],
   "source": []
  },
  {
   "cell_type": "code",
   "execution_count": 8,
   "metadata": {},
   "outputs": [
    {
     "name": "stdout",
     "output_type": "stream",
     "text": [
      "Epoch 1/5\n",
      "714/714 [==============================] - 89s 125ms/step - loss: -0.5730 - val_loss: -0.6638\n",
      "Epoch 2/5\n",
      "714/714 [==============================] - 85s 119ms/step - loss: -0.6436 - val_loss: -0.6496\n",
      "Epoch 3/5\n",
      "714/714 [==============================] - 132s 184ms/step - loss: -0.6517 - val_loss: -0.6050\n",
      "Epoch 4/5\n",
      "714/714 [==============================] - 164s 230ms/step - loss: -0.6505 - val_loss: -0.6908\n",
      "Epoch 5/5\n",
      "714/714 [==============================] - 164s 230ms/step - loss: -0.6815 - val_loss: -0.6497\n",
      "time:634.2249140739441\n"
     ]
    }
   ],
   "source": [
    "# train_model,feature_model = create_model(1e-3,l2_distance,margin_loss_fun_factory(0.1,5),\\\n",
    "#                                         conv_base,color)\n",
    "start = time.time()\n",
    "history = train_model.fit_generator(\n",
    "          gen_train,\n",
    "          validation_data = gen_val,\n",
    "          epochs=5,\n",
    "          use_multiprocessing=True,workers=2,max_queue_size=20)\n",
    "end = time.time()\n",
    "print('time:{}'.format(end - start))"
   ]
  },
  {
   "cell_type": "code",
   "execution_count": null,
   "metadata": {},
   "outputs": [],
   "source": []
  },
  {
   "cell_type": "markdown",
   "metadata": {},
   "source": [
    "Fine-Tune"
   ]
  },
  {
   "cell_type": "code",
   "execution_count": 12,
   "metadata": {},
   "outputs": [],
   "source": [
    "feature_model.layers[0].trainable=True"
   ]
  },
  {
   "cell_type": "code",
   "execution_count": 14,
   "metadata": {},
   "outputs": [],
   "source": [
    "for layer in feature_model.layers[0].layers:\n",
    "    if layer.name in ['block14_sepconv2','block14_sepconv1']:\n",
    "        layer.trainable = True\n",
    "    else:\n",
    "        layer.trainable = False"
   ]
  },
  {
   "cell_type": "code",
   "execution_count": 19,
   "metadata": {},
   "outputs": [],
   "source": [
    "train_model.compile(loss=margin_loss_fun_factory(0.1,5),optimizer=tf.keras.optimizers.Adam(lr=1e-4))"
   ]
  },
  {
   "cell_type": "code",
   "execution_count": 20,
   "metadata": {},
   "outputs": [
    {
     "name": "stdout",
     "output_type": "stream",
     "text": [
      "Epoch 1/5\n",
      "713/714 [============================>.] - ETA: 0s - loss: -0.8138Epoch 1/5\n",
      "714/714 [==============================] - 180s 252ms/step - loss: -0.8127 - val_loss: -0.7030\n",
      "Epoch 2/5\n",
      "714/714 [==============================] - 178s 250ms/step - loss: -0.9215 - val_loss: -0.7280\n",
      "Epoch 3/5\n",
      "714/714 [==============================] - 179s 250ms/step - loss: -1.0445 - val_loss: -0.6875\n",
      "Epoch 4/5\n",
      "714/714 [==============================] - 179s 251ms/step - loss: -1.0952 - val_loss: -0.5705\n",
      "Epoch 5/5\n",
      "714/714 [==============================] - 179s 250ms/step - loss: -1.0889 - val_loss: -0.6476\n",
      "time:895.5712113380432\n"
     ]
    }
   ],
   "source": [
    "start = time.time()\n",
    "history = train_model.fit_generator(\n",
    "          gen_train,\n",
    "          validation_data = gen_val,\n",
    "          epochs=5,\n",
    "          use_multiprocessing=True,workers=2,max_queue_size=20)\n",
    "end = time.time()\n",
    "print('time:{}'.format(end - start))"
   ]
  },
  {
   "cell_type": "code",
   "execution_count": null,
   "metadata": {},
   "outputs": [],
   "source": []
  },
  {
   "cell_type": "code",
   "execution_count": 21,
   "metadata": {},
   "outputs": [],
   "source": [
    "train_model.save('Models/train_l2_distance_margin_loss_fun_factory(0.1,5).h5')\n",
    "feature_model.save('Models/feature_l2_distance_margin_loss_fun_factory(0.1,5).h5')"
   ]
  },
  {
   "cell_type": "code",
   "execution_count": null,
   "metadata": {},
   "outputs": [],
   "source": []
  },
  {
   "cell_type": "code",
   "execution_count": null,
   "metadata": {},
   "outputs": [],
   "source": []
  },
  {
   "cell_type": "code",
   "execution_count": null,
   "metadata": {},
   "outputs": [],
   "source": []
  }
 ],
 "metadata": {
  "kernelspec": {
   "display_name": "Python 3",
   "language": "python",
   "name": "python3"
  },
  "language_info": {
   "codemirror_mode": {
    "name": "ipython",
    "version": 3
   },
   "file_extension": ".py",
   "mimetype": "text/x-python",
   "name": "python",
   "nbconvert_exporter": "python",
   "pygments_lexer": "ipython3",
   "version": "3.6.6"
  }
 },
 "nbformat": 4,
 "nbformat_minor": 2
}
