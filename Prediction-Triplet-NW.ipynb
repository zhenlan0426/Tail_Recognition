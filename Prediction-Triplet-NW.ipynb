{
 "cells": [
  {
   "cell_type": "code",
   "execution_count": 1,
   "metadata": {},
   "outputs": [],
   "source": [
    "from tensorflow.keras.models import load_model\n",
    "from functions import PredictGenerator,l2_distance_np,top_k,loop_distance,\\\n",
    "                        MAP,generate_feature,GridSearch,NW_PredictGenerator\n",
    "import pickle\n",
    "from albumentations import ShiftScaleRotate,Cutout,RandomContrast,RandomBrightness,Compose\n",
    "from utility.albumentations_helper import create_transform\n",
    "import time\n",
    "import tensorflow as tf\n",
    "import numpy as np\n",
    "from functools import partial\n",
    "from sklearn.metrics import roc_auc_score\n",
    "import matplotlib.pyplot as plt"
   ]
  },
  {
   "cell_type": "code",
   "execution_count": 28,
   "metadata": {},
   "outputs": [],
   "source": [
    "## change ##\n",
    "color = False\n",
    "distance = l2_distance_np\n",
    "FFA_size = 4\n",
    "TTA_NW = 4\n",
    "factor = (1/0.276-1)"
   ]
  },
  {
   "cell_type": "code",
   "execution_count": 3,
   "metadata": {},
   "outputs": [],
   "source": [
    "if color:\n",
    "    with open('/home/will/Desktop/kaggle/Whale/train_df_color.pkl', 'rb') as f:\n",
    "        Ids_train = pickle.load(f)\n",
    "    with open('/home/will/Desktop/kaggle/Whale/new_whale_train_color.pkl', 'rb') as f:\n",
    "        newWhale_train = pickle.load(f)\n",
    "    with open('/home/will/Desktop/kaggle/Whale/val_df_color.pkl', 'rb') as f:\n",
    "        Ids_val = pickle.load(f)\n",
    "    with open('/home/will/Desktop/kaggle/Whale/new_whale_val_color.pkl', 'rb') as f:\n",
    "        newWhale_val = pickle.load(f)\n",
    "else:\n",
    "    with open('/home/will/Desktop/kaggle/Whale/train_df.pkl', 'rb') as f:\n",
    "        Ids_train = pickle.load(f)\n",
    "    with open('/home/will/Desktop/kaggle/Whale/new_whale_train.pkl', 'rb') as f:\n",
    "        newWhale_train = pickle.load(f)\n",
    "    with open('/home/will/Desktop/kaggle/Whale/val_df.pkl', 'rb') as f:\n",
    "        Ids_val = pickle.load(f)\n",
    "    with open('/home/will/Desktop/kaggle/Whale/new_whale_val.pkl', 'rb') as f:\n",
    "        newWhale_val = pickle.load(f)"
   ]
  },
  {
   "cell_type": "code",
   "execution_count": 4,
   "metadata": {},
   "outputs": [],
   "source": [
    "aug = Compose([RandomContrast(p=0.2),RandomBrightness(p=0.2),\n",
    "                ShiftScaleRotate(shift_limit=0.03,rotate_limit=15,scale_limit=0.02,p=1)])\n",
    "transform = create_transform(aug)    "
   ]
  },
  {
   "cell_type": "code",
   "execution_count": null,
   "metadata": {},
   "outputs": [],
   "source": []
  },
  {
   "cell_type": "markdown",
   "metadata": {},
   "source": [
    "### predict New Whale"
   ]
  },
  {
   "cell_type": "code",
   "execution_count": 26,
   "metadata": {},
   "outputs": [],
   "source": [
    "NW_model = load_model('Models/NewWhale.h5')"
   ]
  },
  {
   "cell_type": "code",
   "execution_count": 30,
   "metadata": {},
   "outputs": [],
   "source": [
    "Imgs = sum(Ids_val.Imgs.tolist(),[])\n",
    "class_num = len(Imgs)\n",
    "NW_num = int(len(Imgs)//factor)\n",
    "Imgs = Imgs + newWhale_val[:NW_num]"
   ]
  },
  {
   "cell_type": "code",
   "execution_count": 31,
   "metadata": {},
   "outputs": [],
   "source": [
    "gen = NW_PredictGenerator(Imgs,transform)"
   ]
  },
  {
   "cell_type": "code",
   "execution_count": 32,
   "metadata": {},
   "outputs": [],
   "source": [
    "p_NW_list = [NW_model.predict_generator(gen,workers=2,use_multiprocessing=True).flatten() for _ in range(TTA_NW)]"
   ]
  },
  {
   "cell_type": "code",
   "execution_count": 33,
   "metadata": {},
   "outputs": [
    {
     "data": {
      "text/plain": [
       "[0.7465333302873851,\n",
       " 0.7551844575420213,\n",
       " 0.7558018966103673,\n",
       " 0.7576085245934928]"
      ]
     },
     "execution_count": 33,
     "metadata": {},
     "output_type": "execute_result"
    }
   ],
   "source": [
    "[roc_auc_score(np.arange(len(Imgs))>class_num,np.sum(np.stack(p_NW_list,1)[:,:i],1)) for i in range(1,5)]"
   ]
  },
  {
   "cell_type": "code",
   "execution_count": 34,
   "metadata": {},
   "outputs": [],
   "source": [
    "p_NW = np.sum(np.stack(p_NW_list,1),1)"
   ]
  },
  {
   "cell_type": "code",
   "execution_count": 35,
   "metadata": {},
   "outputs": [],
   "source": [
    "np.save('p_NW.npy',p_NW)"
   ]
  },
  {
   "cell_type": "code",
   "execution_count": null,
   "metadata": {},
   "outputs": [],
   "source": []
  },
  {
   "cell_type": "markdown",
   "metadata": {},
   "source": [
    "### Existing Whale quantile determination"
   ]
  },
  {
   "cell_type": "code",
   "execution_count": null,
   "metadata": {},
   "outputs": [],
   "source": [
    "feature_model = load_model('Models/feature_model_DenseNet_Triplet2.h5')"
   ]
  },
  {
   "cell_type": "code",
   "execution_count": 8,
   "metadata": {},
   "outputs": [],
   "source": [
    "# aggFuns = [partial(np.quantile,q=pct,axis=(1,2)) for pct in [0.1,0.25,0.5]] + [partial(np.mean,axis=(1,2))]\n",
    "# FFA_sizes = [4,8]\n",
    "aggFuns = [partial(np.quantile,q=pct,axis=(1,2)) for pct in np.linspace(0,0.2,21)]\n",
    "FFA1_sizes = [4]\n",
    "FFA2_sizes = [4]"
   ]
  },
  {
   "cell_type": "code",
   "execution_count": 9,
   "metadata": {},
   "outputs": [],
   "source": [
    "gs_dict = GridSearch(aggFuns,FFA1_sizes,FFA2_sizes,Ids_train,Ids_val,\\\n",
    "                     transform,color,feature_model,distance,k=5)"
   ]
  },
  {
   "cell_type": "code",
   "execution_count": null,
   "metadata": {},
   "outputs": [],
   "source": []
  },
  {
   "cell_type": "code",
   "execution_count": 10,
   "metadata": {},
   "outputs": [
    {
     "data": {
      "text/plain": [
       "[<matplotlib.lines.Line2D at 0x7f30e0ab28d0>]"
      ]
     },
     "execution_count": 10,
     "metadata": {},
     "output_type": "execute_result"
    },
    {
     "data": {
      "image/png": "[encoded data removed]",
      "text/plain": [
       "<Figure size 432x288 with 1 Axes>"
      ]
     },
     "metadata": {
      "needs_background": "light"
     },
     "output_type": "display_data"
    }
   ],
   "source": [
    "%matplotlib inline\n",
    "import matplotlib.pyplot as plt\n",
    "plt.plot([gs_dict[(4,4),pct] for pct in np.linspace(0,0.2,21)])"
   ]
  },
  {
   "cell_type": "code",
   "execution_count": 11,
   "metadata": {},
   "outputs": [
    {
     "data": {
      "text/plain": [
       "{((4, 4), 0.0): 0.3239332096474954,\n",
       " ((4, 4), 0.01): 0.3314780457637601,\n",
       " ((4, 4), 0.02): 0.3374768089053803,\n",
       " ((4, 4), 0.03): 0.34233147804576375,\n",
       " ((4, 4), 0.04): 0.3414656771799629,\n",
       " ((4, 4), 0.05): 0.3401205936920223,\n",
       " ((4, 4), 0.06): 0.33594619666048237,\n",
       " ((4, 4), 0.07): 0.3398268398268398,\n",
       " ((4, 4), 0.08): 0.34370748299319726,\n",
       " ((4, 4), 0.09): 0.34618119975262834,\n",
       " ((4, 4), 0.1): 0.3429808286951144,\n",
       " ((4, 4), 0.11): 0.33658008658008653,\n",
       " ((4, 4), 0.12): 0.3313079777365492,\n",
       " ((4, 4), 0.13): 0.32546382189239337,\n",
       " ((4, 4), 0.14): 0.3233766233766234,\n",
       " ((4, 4), 0.15): 0.3219233147804576,\n",
       " ((4, 4), 0.16): 0.31986703772418057,\n",
       " ((4, 4), 0.17): 0.318212739641311,\n",
       " ((4, 4), 0.18): 0.312152133580705,\n",
       " ((4, 4), 0.19): 0.31006493506493504,\n",
       " ((4, 4), 0.2): 0.3078076685219542}"
      ]
     },
     "execution_count": 11,
     "metadata": {},
     "output_type": "execute_result"
    }
   ],
   "source": [
    "gs_dict"
   ]
  },
  {
   "cell_type": "code",
   "execution_count": null,
   "metadata": {},
   "outputs": [],
   "source": []
  },
  {
   "cell_type": "markdown",
   "metadata": {},
   "source": [
    "### Combine New and Existing Whale"
   ]
  },
  {
   "cell_type": "code",
   "execution_count": 15,
   "metadata": {},
   "outputs": [],
   "source": [
    "pct = 0.09"
   ]
  },
  {
   "cell_type": "code",
   "execution_count": 6,
   "metadata": {},
   "outputs": [],
   "source": [
    "p_NW = np.load('p_NW.npy')"
   ]
  },
  {
   "cell_type": "code",
   "execution_count": 7,
   "metadata": {},
   "outputs": [],
   "source": [
    "feature_model = load_model('Models/feature_model_DenseNet_Triplet2.h5')"
   ]
  },
  {
   "cell_type": "code",
   "execution_count": 12,
   "metadata": {},
   "outputs": [],
   "source": [
    "Imgs = sum(Ids_val.Imgs.tolist(),[])\n",
    "class_num = len(Imgs)\n",
    "NW_num = int(len(Imgs)//factor)\n",
    "tot_num = class_num + NW_num\n",
    "Imgs = Imgs + newWhale_val[:NW_num]\n",
    "Imgs = [[img] for img in Imgs]"
   ]
  },
  {
   "cell_type": "code",
   "execution_count": 13,
   "metadata": {},
   "outputs": [],
   "source": [
    "feature_train = generate_feature(Ids_train,transform,FFA_size,color,feature_model)\n",
    "feature_val = generate_feature(Imgs,transform,FFA_size,color,feature_model)"
   ]
  },
  {
   "cell_type": "code",
   "execution_count": 16,
   "metadata": {},
   "outputs": [],
   "source": [
    "predicts = loop_distance(feature_train,feature_val,distance,partial(np.quantile,q=pct,axis=(1,2)))"
   ]
  },
  {
   "cell_type": "code",
   "execution_count": null,
   "metadata": {},
   "outputs": [],
   "source": []
  },
  {
   "cell_type": "code",
   "execution_count": 17,
   "metadata": {
    "scrolled": true
   },
   "outputs": [],
   "source": [
    "repeat_ids = sum([[i]*len(j) for i,j in zip(Ids_val.Id.tolist(),Ids_val.Imgs.tolist())],[])\n",
    "mapping_dict = dict(zip(Ids_train.Id.values,Ids_train.index.values))\n",
    "labels = [mapping_dict[id] for id in repeat_ids]\n",
    "labels = labels + [-1]*NW_num"
   ]
  },
  {
   "cell_type": "code",
   "execution_count": null,
   "metadata": {},
   "outputs": [],
   "source": []
  },
  {
   "cell_type": "code",
   "execution_count": 18,
   "metadata": {},
   "outputs": [
    {
     "data": {
      "text/plain": [
       "[<matplotlib.lines.Line2D at 0x7f68bec84048>]"
      ]
     },
     "execution_count": 18,
     "metadata": {},
     "output_type": "execute_result"
    },
    {
     "data": {
      "image/png": "[encoded data removed]",
      "text/plain": [
       "<Figure size 432x288 with 1 Axes>"
      ]
     },
     "metadata": {
      "needs_background": "light"
     },
     "output_type": "display_data"
    }
   ],
   "source": [
    "plt.plot(np.sort(p_NW))"
   ]
  },
  {
   "cell_type": "code",
   "execution_count": 46,
   "metadata": {},
   "outputs": [
    {
     "name": "stdout",
     "output_type": "stream",
     "text": [
      "[0 1] [1405 1405]\n"
     ]
    }
   ],
   "source": [
    "num_bins = 2\n",
    "tot_num = predicts.shape[0]\n",
    "bins = np.quantile(p_NW,np.arange(num_bins+1)/num_bins)\n",
    "bins[0] = -1\n",
    "bins[-1] = 10\n",
    "inds = num_bins - np.digitize(p_NW,bins)\n",
    "print(np.unique(inds),np.bincount(inds))"
   ]
  },
  {
   "cell_type": "code",
   "execution_count": 44,
   "metadata": {},
   "outputs": [],
   "source": [
    "predicts_nw = np.insert(predicts.flatten(),inds + np.arange(tot_num)*5,-1).reshape(tot_num,6)"
   ]
  },
  {
   "cell_type": "code",
   "execution_count": 42,
   "metadata": {},
   "outputs": [
    {
     "data": {
      "text/plain": [
       "0.39698695136417556"
      ]
     },
     "execution_count": 42,
     "metadata": {},
     "output_type": "execute_result"
    }
   ],
   "source": [
    "# num_bins = 5\n",
    "MAP(np.array(labels),predicts_nw[:,:5])"
   ]
  },
  {
   "cell_type": "code",
   "execution_count": 38,
   "metadata": {},
   "outputs": [
    {
     "data": {
      "text/plain": [
       "0.4069691577698696"
      ]
     },
     "execution_count": 38,
     "metadata": {},
     "output_type": "execute_result"
    }
   ],
   "source": [
    "# num_bins = 4\n",
    "MAP(np.array(labels),predicts_nw[:,:5])"
   ]
  },
  {
   "cell_type": "code",
   "execution_count": 45,
   "metadata": {},
   "outputs": [
    {
     "data": {
      "text/plain": [
       "0.41782325029655987"
      ]
     },
     "execution_count": 45,
     "metadata": {},
     "output_type": "execute_result"
    }
   ],
   "source": [
    "# num_bins = 3\n",
    "MAP(np.array(labels),predicts_nw[:,:5])"
   ]
  },
  {
   "cell_type": "code",
   "execution_count": 47,
   "metadata": {},
   "outputs": [
    {
     "data": {
      "text/plain": [
       "0.41782325029655987"
      ]
     },
     "execution_count": 47,
     "metadata": {},
     "output_type": "execute_result"
    }
   ],
   "source": [
    "# num_bins = 2\n",
    "MAP(np.array(labels),predicts_nw[:,:5])"
   ]
  },
  {
   "cell_type": "code",
   "execution_count": 39,
   "metadata": {},
   "outputs": [
    {
     "data": {
      "text/plain": [
       "0.39902135231316727"
      ]
     },
     "execution_count": 39,
     "metadata": {},
     "output_type": "execute_result"
    }
   ],
   "source": [
    "MAP(np.array(labels),np.concatenate([-np.ones((tot_num,1)),predicts[:,:4]],-1))"
   ]
  },
  {
   "cell_type": "code",
   "execution_count": null,
   "metadata": {},
   "outputs": [],
   "source": []
  }
 ],
 "metadata": {
  "kernelspec": {
   "display_name": "Python 3",
   "language": "python",
   "name": "python3"
  },
  "language_info": {
   "codemirror_mode": {
    "name": "ipython",
    "version": 3
   },
   "file_extension": ".py",
   "mimetype": "text/x-python",
   "name": "python",
   "nbconvert_exporter": "python",
   "pygments_lexer": "ipython3",
   "version": "3.6.6"
  },
  "toc": {
   "base_numbering": 1,
   "nav_menu": {},
   "number_sections": true,
   "sideBar": true,
   "skip_h1_title": false,
   "title_cell": "Table of Contents",
   "title_sidebar": "Contents",
   "toc_cell": false,
   "toc_position": {},
   "toc_section_display": true,
   "toc_window_display": false
  }
 },
 "nbformat": 4,
 "nbformat_minor": 2
}
