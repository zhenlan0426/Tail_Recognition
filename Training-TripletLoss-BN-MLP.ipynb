{
 "cells": [
  {
   "cell_type": "code",
   "execution_count": 18,
   "metadata": {},
   "outputs": [],
   "source": [
    "import pickle\n",
    "from albumentations import ShiftScaleRotate,Cutout,RandomContrast,RandomBrightness,Compose\n",
    "from utility.albumentations_helper import create_transform\n",
    "from utility.others import clear_all\n",
    "import time\n",
    "from functions import DataGenerator,PredictGenerator,create_model,dot_distance,exp_loss,\\\n",
    "                        sigmoid_dot_distance,dot_sigmoid_distance,cross_entropy_loss,l2_distance,\\\n",
    "                        margin_loss_fun_factory,Xception_reduced,dot_distance_neg,\\\n",
    "                        TripletGenerator,create_model_triplet\n",
    "from utility.grayscale_imagenet import Xception_greyscale\n",
    "from utility.grayscale_DenseNet import DenseNet_greyscale\n",
    "import tensorflow as tf\n",
    "import numpy as np\n",
    "from tensorflow.keras.models import load_model\n",
    "from tensorflow.keras.callbacks import ReduceLROnPlateau\n",
    "#from tensorflow.keras.applications import DenseNet121"
   ]
  },
  {
   "cell_type": "code",
   "execution_count": 2,
   "metadata": {},
   "outputs": [],
   "source": [
    "color = False\n",
    "shapes = (224,224,1)\n",
    "HalfBatch = 8\n",
    "margin = -2"
   ]
  },
  {
   "cell_type": "code",
   "execution_count": null,
   "metadata": {},
   "outputs": [],
   "source": []
  },
  {
   "cell_type": "markdown",
   "metadata": {},
   "source": [
    "### set up generator"
   ]
  },
  {
   "cell_type": "code",
   "execution_count": 3,
   "metadata": {},
   "outputs": [],
   "source": [
    "if color:\n",
    "    with open('/home/will/Desktop/kaggle/Whale/train_df_color.pkl', 'rb') as f:\n",
    "        Ids_train = pickle.load(f)\n",
    "    with open('/home/will/Desktop/kaggle/Whale/new_whale_train_color.pkl', 'rb') as f:\n",
    "        newWhale_train = pickle.load(f)\n",
    "    with open('/home/will/Desktop/kaggle/Whale/val_df_color.pkl', 'rb') as f:\n",
    "        Ids_val = pickle.load(f)\n",
    "    with open('/home/will/Desktop/kaggle/Whale/new_whale_val_color.pkl', 'rb') as f:\n",
    "        newWhale_val = pickle.load(f)\n",
    "else:\n",
    "    with open('/home/will/Desktop/kaggle/Whale/train_df.pkl', 'rb') as f:\n",
    "        Ids_train = pickle.load(f)\n",
    "    with open('/home/will/Desktop/kaggle/Whale/new_whale_train.pkl', 'rb') as f:\n",
    "        newWhale_train = pickle.load(f)\n",
    "    with open('/home/will/Desktop/kaggle/Whale/val_df.pkl', 'rb') as f:\n",
    "        Ids_val = pickle.load(f)\n",
    "    with open('/home/will/Desktop/kaggle/Whale/new_whale_val.pkl', 'rb') as f:\n",
    "        newWhale_val = pickle.load(f)"
   ]
  },
  {
   "cell_type": "code",
   "execution_count": 4,
   "metadata": {},
   "outputs": [],
   "source": [
    "aug = Compose([RandomContrast(p=0.2),RandomBrightness(p=0.2),\n",
    "                ShiftScaleRotate(shift_limit=0.03,rotate_limit=15,scale_limit=0.02,p=1),Cutout(p=0.5)])\n",
    "transform = create_transform(aug)  \n",
    "\n",
    "aug_test = Compose([RandomContrast(p=0.2),RandomBrightness(p=0.2),\n",
    "                ShiftScaleRotate(shift_limit=0.03,rotate_limit=15,scale_limit=0.02,p=1)])\n",
    "transform_test = create_transform(aug_test)    \n",
    "\n",
    "gen_train = TripletGenerator(Ids_train,newWhale_train,transform,HalfBatch=HalfBatch)\n",
    "gen_val = TripletGenerator(Ids_val,newWhale_val,transform_test,HalfBatch=HalfBatch)"
   ]
  },
  {
   "cell_type": "code",
   "execution_count": null,
   "metadata": {},
   "outputs": [],
   "source": []
  },
  {
   "cell_type": "markdown",
   "metadata": {},
   "source": [
    "### build model"
   ]
  },
  {
   "cell_type": "code",
   "execution_count": 5,
   "metadata": {},
   "outputs": [],
   "source": [
    "conv_base = DenseNet_greyscale(121,(224,224,1),'max',False)\n",
    "#conv_base = Xception_greyscale((256,256,1),'max',False)\n",
    "# conv_base = Xception_reduced((256,256,1))"
   ]
  },
  {
   "cell_type": "code",
   "execution_count": 6,
   "metadata": {
    "scrolled": false
   },
   "outputs": [
    {
     "name": "stdout",
     "output_type": "stream",
     "text": [
      "WARNING:tensorflow:Output \"sequential\" missing from loss dictionary. We assume this was done on purpose. The fit and evaluate APIs will not be expecting any data to be passed to \"sequential\".\n"
     ]
    }
   ],
   "source": [
    "train_model,feature_model = create_model_triplet(1e-3,l2_distance,\\\n",
    "                                                 conv_base,color,margin,BatchNorm=True,\\\n",
    "                                                nodes=[512,256], activations=['relu',None])"
   ]
  },
  {
   "cell_type": "code",
   "execution_count": null,
   "metadata": {},
   "outputs": [],
   "source": []
  },
  {
   "cell_type": "markdown",
   "metadata": {},
   "source": [
    "### training"
   ]
  },
  {
   "cell_type": "code",
   "execution_count": 7,
   "metadata": {},
   "outputs": [
    {
     "name": "stderr",
     "output_type": "stream",
     "text": [
      "/home/will/anaconda3/lib/python3.6/site-packages/tensorflow/python/ops/gradients_impl.py:112: UserWarning: Converting sparse IndexedSlices to a dense Tensor of unknown shape. This may consume a large amount of memory.\n",
      "  \"Converting sparse IndexedSlices to a dense Tensor of unknown shape. \"\n"
     ]
    },
    {
     "name": "stdout",
     "output_type": "stream",
     "text": [
      "Epoch 1/5\n",
      "713/713 [==============================] - 52s 73ms/step - loss: -1.1605 - val_loss: -1.2011\n",
      "Epoch 2/5\n",
      "713/713 [==============================] - 42s 60ms/step - loss: -1.2641 - val_loss: -1.1576\n",
      "Epoch 3/5\n",
      "713/713 [==============================] - 43s 60ms/step - loss: -1.3239 - val_loss: -1.3509\n",
      "Epoch 4/5\n",
      "713/713 [==============================] - 43s 60ms/step - loss: -1.3729 - val_loss: -1.3159\n",
      "Epoch 5/5\n",
      "713/713 [==============================] - 43s 60ms/step - loss: -1.3547 - val_loss: -1.2789\n",
      "time:224.0328893661499\n"
     ]
    }
   ],
   "source": [
    "# conv_base = DenseNet_greyscale(121,(224,224,1),'max',False)\n",
    "# train_model,feature_model = create_model2(1e-3,margin_loss_fun_factory(0.1,5),conv_base,color)\n",
    "start = time.time()\n",
    "history = train_model.fit_generator(\n",
    "          gen_train,\n",
    "          validation_data = gen_val,\n",
    "          epochs=5,\n",
    "          use_multiprocessing=True,workers=2,max_queue_size=20)\n",
    "end = time.time()\n",
    "print('time:{}'.format(end - start))"
   ]
  },
  {
   "cell_type": "code",
   "execution_count": null,
   "metadata": {},
   "outputs": [],
   "source": []
  },
  {
   "cell_type": "code",
   "execution_count": null,
   "metadata": {},
   "outputs": [],
   "source": []
  },
  {
   "cell_type": "markdown",
   "metadata": {},
   "source": [
    "Fine-Tune"
   ]
  },
  {
   "cell_type": "code",
   "execution_count": 8,
   "metadata": {},
   "outputs": [],
   "source": [
    "feature_model.layers[0].trainable=True"
   ]
  },
  {
   "cell_type": "code",
   "execution_count": 9,
   "metadata": {},
   "outputs": [],
   "source": [
    "train = False\n",
    "for layer in feature_model.layers[0].layers:\n",
    "    if 'conv5' in layer.name:\n",
    "        train = True\n",
    "    layer.trainable = train"
   ]
  },
  {
   "cell_type": "code",
   "execution_count": 10,
   "metadata": {},
   "outputs": [
    {
     "name": "stdout",
     "output_type": "stream",
     "text": [
      "WARNING:tensorflow:Output \"sequential\" missing from loss dictionary. We assume this was done on purpose. The fit and evaluate APIs will not be expecting any data to be passed to \"sequential\".\n"
     ]
    }
   ],
   "source": [
    "train_model.compile(loss=None,optimizer=tf.keras.optimizers.Adam(lr=4e-4))"
   ]
  },
  {
   "cell_type": "code",
   "execution_count": null,
   "metadata": {},
   "outputs": [],
   "source": []
  },
  {
   "cell_type": "code",
   "execution_count": 11,
   "metadata": {},
   "outputs": [
    {
     "name": "stdout",
     "output_type": "stream",
     "text": [
      "Epoch 1/5\n",
      "713/713 [==============================] - 72s 101ms/step - loss: -1.4453 - val_loss: -1.2905\n",
      "Epoch 2/5\n",
      "713/713 [==============================] - 56s 79ms/step - loss: -1.5949 - val_loss: -1.3916\n",
      "Epoch 3/5\n",
      "713/713 [==============================] - 56s 79ms/step - loss: -1.6373 - val_loss: -1.3688\n",
      "Epoch 4/5\n",
      "713/713 [==============================] - 56s 79ms/step - loss: -1.6363 - val_loss: -1.4364\n",
      "Epoch 5/5\n",
      "713/713 [==============================] - 56s 79ms/step - loss: -1.6536 - val_loss: -1.4600\n",
      "time:302.4082691669464\n"
     ]
    }
   ],
   "source": [
    "start = time.time()\n",
    "history = train_model.fit_generator(\n",
    "          gen_train,\n",
    "          validation_data = gen_val,\n",
    "          epochs=5,\n",
    "          use_multiprocessing=True,workers=2,max_queue_size=20)\n",
    "end = time.time()\n",
    "print('time:{}'.format(end - start))"
   ]
  },
  {
   "cell_type": "code",
   "execution_count": null,
   "metadata": {},
   "outputs": [],
   "source": []
  },
  {
   "cell_type": "code",
   "execution_count": 12,
   "metadata": {},
   "outputs": [
    {
     "name": "stdout",
     "output_type": "stream",
     "text": [
      "Epoch 1/2\n",
      "713/713 [==============================] - 56s 79ms/step - loss: -1.7069 - val_loss: -1.4639\n",
      "Epoch 2/2\n",
      "713/713 [==============================] - 56s 79ms/step - loss: -1.6914 - val_loss: -1.4143\n",
      "time:112.09834861755371\n"
     ]
    }
   ],
   "source": [
    "start = time.time()\n",
    "history = train_model.fit_generator(\n",
    "          gen_train,\n",
    "          validation_data = gen_val,\n",
    "          epochs=2,\n",
    "          use_multiprocessing=True,workers=2,max_queue_size=20)\n",
    "end = time.time()\n",
    "print('time:{}'.format(end - start))"
   ]
  },
  {
   "cell_type": "code",
   "execution_count": null,
   "metadata": {},
   "outputs": [],
   "source": []
  },
  {
   "cell_type": "code",
   "execution_count": 13,
   "metadata": {},
   "outputs": [],
   "source": [
    "train = False\n",
    "for layer in feature_model.layers[0].layers:\n",
    "    if 'conv4' in layer.name:\n",
    "        train = True\n",
    "    layer.trainable = train"
   ]
  },
  {
   "cell_type": "code",
   "execution_count": 14,
   "metadata": {},
   "outputs": [
    {
     "name": "stdout",
     "output_type": "stream",
     "text": [
      "WARNING:tensorflow:Output \"sequential\" missing from loss dictionary. We assume this was done on purpose. The fit and evaluate APIs will not be expecting any data to be passed to \"sequential\".\n"
     ]
    }
   ],
   "source": [
    "train_model.compile(loss=None,optimizer=tf.keras.optimizers.Adam(lr=1e-4))"
   ]
  },
  {
   "cell_type": "code",
   "execution_count": 15,
   "metadata": {},
   "outputs": [
    {
     "name": "stdout",
     "output_type": "stream",
     "text": [
      "Epoch 1/5\n",
      "713/713 [==============================] - 109s 153ms/step - loss: -1.6969 - val_loss: -1.5322\n",
      "Epoch 2/5\n",
      "713/713 [==============================] - 81s 113ms/step - loss: -1.7570 - val_loss: -1.5923\n",
      "Epoch 3/5\n",
      "713/713 [==============================] - 81s 113ms/step - loss: -1.7953 - val_loss: -1.6548\n",
      "Epoch 4/5\n",
      "713/713 [==============================] - 81s 113ms/step - loss: -1.8070 - val_loss: -1.6588\n",
      "Epoch 5/5\n",
      "713/713 [==============================] - 81s 114ms/step - loss: -1.8143 - val_loss: -1.6298\n",
      "time:445.4922471046448\n"
     ]
    }
   ],
   "source": [
    "start = time.time()\n",
    "history = train_model.fit_generator(\n",
    "          gen_train,\n",
    "          validation_data = gen_val,\n",
    "          epochs=5,\n",
    "          use_multiprocessing=True,workers=2,max_queue_size=20)\n",
    "end = time.time()\n",
    "print('time:{}'.format(end - start))"
   ]
  },
  {
   "cell_type": "code",
   "execution_count": null,
   "metadata": {},
   "outputs": [],
   "source": []
  },
  {
   "cell_type": "code",
   "execution_count": 16,
   "metadata": {},
   "outputs": [],
   "source": [
    "train = True\n",
    "for layer in feature_model.layers[0].layers:\n",
    "    layer.trainable = train"
   ]
  },
  {
   "cell_type": "code",
   "execution_count": 17,
   "metadata": {},
   "outputs": [
    {
     "name": "stdout",
     "output_type": "stream",
     "text": [
      "WARNING:tensorflow:Output \"sequential\" missing from loss dictionary. We assume this was done on purpose. The fit and evaluate APIs will not be expecting any data to be passed to \"sequential\".\n"
     ]
    }
   ],
   "source": [
    "train_model.compile(loss=None,optimizer=tf.keras.optimizers.Adam(lr=1e-5))"
   ]
  },
  {
   "cell_type": "code",
   "execution_count": 19,
   "metadata": {},
   "outputs": [],
   "source": [
    "reduce_lr = ReduceLROnPlateau(monitor='val_loss', factor=0.2,\n",
    "                              patience=4, min_lr=1e-10)"
   ]
  },
  {
   "cell_type": "code",
   "execution_count": 20,
   "metadata": {},
   "outputs": [
    {
     "name": "stderr",
     "output_type": "stream",
     "text": [
      "/home/will/anaconda3/lib/python3.6/site-packages/tensorflow/python/ops/gradients_impl.py:112: UserWarning: Converting sparse IndexedSlices to a dense Tensor of unknown shape. This may consume a large amount of memory.\n",
      "  \"Converting sparse IndexedSlices to a dense Tensor of unknown shape. \"\n"
     ]
    },
    {
     "name": "stdout",
     "output_type": "stream",
     "text": [
      "Epoch 1/16\n",
      "713/713 [==============================] - 172s 241ms/step - loss: -1.8562 - val_loss: -1.7805\n",
      "Epoch 2/16\n",
      "713/713 [==============================] - 130s 182ms/step - loss: -1.8795 - val_loss: -1.7709\n",
      "Epoch 3/16\n",
      "713/713 [==============================] - 130s 183ms/step - loss: -1.8680 - val_loss: -1.7497\n",
      "Epoch 4/16\n",
      "713/713 [==============================] - 130s 183ms/step - loss: -1.8895 - val_loss: -1.7391\n",
      "Epoch 5/16\n",
      "713/713 [==============================] - 130s 183ms/step - loss: -1.8950 - val_loss: -1.8291\n",
      "Epoch 6/16\n",
      "713/713 [==============================] - 130s 182ms/step - loss: -1.8981 - val_loss: -1.8258\n",
      "Epoch 7/16\n",
      "713/713 [==============================] - 130s 182ms/step - loss: -1.9032 - val_loss: -1.7895\n",
      "Epoch 8/16\n",
      "713/713 [==============================] - 130s 182ms/step - loss: -1.8944 - val_loss: -1.8008\n",
      "Epoch 9/16\n",
      "713/713 [==============================] - 137s 192ms/step - loss: -1.9185 - val_loss: -1.8042\n",
      "Epoch 10/16\n",
      "713/713 [==============================] - 130s 182ms/step - loss: -1.9202 - val_loss: -1.8030\n",
      "Epoch 11/16\n",
      "713/713 [==============================] - 132s 184ms/step - loss: -1.9219 - val_loss: -1.8234\n",
      "Epoch 12/16\n",
      "713/713 [==============================] - 130s 183ms/step - loss: -1.9175 - val_loss: -1.7991\n",
      "Epoch 13/16\n",
      "713/713 [==============================] - 130s 183ms/step - loss: -1.9196 - val_loss: -1.8227\n",
      "Epoch 14/16\n",
      "713/713 [==============================] - 131s 183ms/step - loss: -1.9290 - val_loss: -1.8092\n",
      "Epoch 15/16\n",
      "713/713 [==============================] - 130s 183ms/step - loss: -1.9208 - val_loss: -1.8091\n",
      "Epoch 16/16\n",
      "713/713 [==============================] - 130s 183ms/step - loss: -1.9252 - val_loss: -1.8525\n",
      "time:2151.3914263248444\n"
     ]
    }
   ],
   "source": [
    "start = time.time()\n",
    "history = train_model.fit_generator(\n",
    "          gen_train,\n",
    "          validation_data = gen_val,\n",
    "          epochs=16,\n",
    "          use_multiprocessing=True,workers=2,max_queue_size=20,\n",
    "          callbacks=[reduce_lr])\n",
    "end = time.time()\n",
    "print('time:{}'.format(end - start))"
   ]
  },
  {
   "cell_type": "code",
   "execution_count": 21,
   "metadata": {},
   "outputs": [],
   "source": [
    "train_model.save('Models/DenseNet_Triplet_BN_MLP.h5')\n",
    "feature_model.save('Models/feature_model_DenseNet_Triplet_BN_MLP.h5')"
   ]
  },
  {
   "cell_type": "code",
   "execution_count": null,
   "metadata": {},
   "outputs": [],
   "source": []
  },
  {
   "cell_type": "code",
   "execution_count": null,
   "metadata": {},
   "outputs": [],
   "source": []
  }
 ],
 "metadata": {
  "kernelspec": {
   "display_name": "Python 3",
   "language": "python",
   "name": "python3"
  },
  "language_info": {
   "codemirror_mode": {
    "name": "ipython",
    "version": 3
   },
   "file_extension": ".py",
   "mimetype": "text/x-python",
   "name": "python",
   "nbconvert_exporter": "python",
   "pygments_lexer": "ipython3",
   "version": "3.6.6"
  },
  "toc": {
   "base_numbering": 1,
   "nav_menu": {},
   "number_sections": true,
   "sideBar": true,
   "skip_h1_title": false,
   "title_cell": "Table of Contents",
   "title_sidebar": "Contents",
   "toc_cell": false,
   "toc_position": {},
   "toc_section_display": true,
   "toc_window_display": false
  }
 },
 "nbformat": 4,
 "nbformat_minor": 2
}
