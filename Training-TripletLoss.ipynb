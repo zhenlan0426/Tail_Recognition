{
 "cells": [
  {
   "cell_type": "code",
   "execution_count": 1,
   "metadata": {},
   "outputs": [],
   "source": [
    "import pickle\n",
    "from albumentations import ShiftScaleRotate,Cutout,RandomContrast,RandomBrightness,Compose\n",
    "from utility.albumentations_helper import create_transform\n",
    "from utility.others import clear_all\n",
    "import time\n",
    "from functions import DataGenerator,PredictGenerator,create_model,dot_distance,exp_loss,\\\n",
    "                        sigmoid_dot_distance,dot_sigmoid_distance,cross_entropy_loss,l2_distance,\\\n",
    "                        margin_loss_fun_factory,Xception_reduced,dot_distance_neg,\\\n",
    "                        TripletGenerator,create_model_triplet\n",
    "from utility.grayscale_imagenet import Xception_greyscale\n",
    "from utility.grayscale_DenseNet import DenseNet_greyscale\n",
    "import tensorflow as tf\n",
    "import numpy as np\n",
    "from tensorflow.keras.models import load_model\n",
    "#from tensorflow.keras.applications import DenseNet121"
   ]
  },
  {
   "cell_type": "code",
   "execution_count": 2,
   "metadata": {},
   "outputs": [],
   "source": [
    "color = False\n",
    "shapes = (224,224,1)\n",
    "HalfBatch = 8\n",
    "margin = -2"
   ]
  },
  {
   "cell_type": "code",
   "execution_count": null,
   "metadata": {},
   "outputs": [],
   "source": []
  },
  {
   "cell_type": "markdown",
   "metadata": {},
   "source": [
    "### set up generator"
   ]
  },
  {
   "cell_type": "code",
   "execution_count": 3,
   "metadata": {},
   "outputs": [],
   "source": [
    "if color:\n",
    "    with open('/home/will/Desktop/kaggle/Whale/train_df_color.pkl', 'rb') as f:\n",
    "        Ids_train = pickle.load(f)\n",
    "    with open('/home/will/Desktop/kaggle/Whale/new_whale_train_color.pkl', 'rb') as f:\n",
    "        newWhale_train = pickle.load(f)\n",
    "    with open('/home/will/Desktop/kaggle/Whale/val_df_color.pkl', 'rb') as f:\n",
    "        Ids_val = pickle.load(f)\n",
    "    with open('/home/will/Desktop/kaggle/Whale/new_whale_val_color.pkl', 'rb') as f:\n",
    "        newWhale_val = pickle.load(f)\n",
    "else:\n",
    "    with open('/home/will/Desktop/kaggle/Whale/train_df.pkl', 'rb') as f:\n",
    "        Ids_train = pickle.load(f)\n",
    "    with open('/home/will/Desktop/kaggle/Whale/new_whale_train.pkl', 'rb') as f:\n",
    "        newWhale_train = pickle.load(f)\n",
    "    with open('/home/will/Desktop/kaggle/Whale/val_df.pkl', 'rb') as f:\n",
    "        Ids_val = pickle.load(f)\n",
    "    with open('/home/will/Desktop/kaggle/Whale/new_whale_val.pkl', 'rb') as f:\n",
    "        newWhale_val = pickle.load(f)"
   ]
  },
  {
   "cell_type": "code",
   "execution_count": 4,
   "metadata": {},
   "outputs": [],
   "source": [
    "aug = Compose([RandomContrast(p=0.2),RandomBrightness(p=0.2),\n",
    "                ShiftScaleRotate(shift_limit=0.03,rotate_limit=15,scale_limit=0.02,p=1),Cutout(p=0.5)])\n",
    "transform = create_transform(aug)  \n",
    "\n",
    "aug_test = Compose([RandomContrast(p=0.2),RandomBrightness(p=0.2),\n",
    "                ShiftScaleRotate(shift_limit=0.03,rotate_limit=15,scale_limit=0.02,p=1)])\n",
    "transform_test = create_transform(aug_test)    \n",
    "\n",
    "gen_train = TripletGenerator(Ids_train,newWhale_train,transform,HalfBatch=HalfBatch)\n",
    "gen_val = TripletGenerator(Ids_val,newWhale_val,transform_test,HalfBatch=HalfBatch)"
   ]
  },
  {
   "cell_type": "code",
   "execution_count": null,
   "metadata": {},
   "outputs": [],
   "source": []
  },
  {
   "cell_type": "markdown",
   "metadata": {},
   "source": [
    "### build model"
   ]
  },
  {
   "cell_type": "code",
   "execution_count": 5,
   "metadata": {},
   "outputs": [],
   "source": [
    "conv_base = DenseNet_greyscale(121,(224,224,1),'max',False)\n",
    "#conv_base = Xception_greyscale((256,256,1),'max',False)\n",
    "# conv_base = Xception_reduced((256,256,1))"
   ]
  },
  {
   "cell_type": "code",
   "execution_count": 6,
   "metadata": {
    "scrolled": false
   },
   "outputs": [
    {
     "name": "stdout",
     "output_type": "stream",
     "text": [
      "WARNING:tensorflow:Output \"sequential\" missing from loss dictionary. We assume this was done on purpose. The fit and evaluate APIs will not be expecting any data to be passed to \"sequential\".\n"
     ]
    }
   ],
   "source": [
    "train_model,feature_model = create_model_triplet(1e-3,l2_distance,\\\n",
    "                                                 conv_base,color,margin)"
   ]
  },
  {
   "cell_type": "code",
   "execution_count": null,
   "metadata": {},
   "outputs": [],
   "source": []
  },
  {
   "cell_type": "markdown",
   "metadata": {},
   "source": [
    "### training"
   ]
  },
  {
   "cell_type": "code",
   "execution_count": 7,
   "metadata": {},
   "outputs": [
    {
     "name": "stderr",
     "output_type": "stream",
     "text": [
      "/home/will/anaconda3/lib/python3.6/site-packages/tensorflow/python/ops/gradients_impl.py:112: UserWarning: Converting sparse IndexedSlices to a dense Tensor of unknown shape. This may consume a large amount of memory.\n",
      "  \"Converting sparse IndexedSlices to a dense Tensor of unknown shape. \"\n"
     ]
    },
    {
     "name": "stdout",
     "output_type": "stream",
     "text": [
      "Epoch 1/5\n",
      "713/713 [==============================] - 51s 71ms/step - loss: -1.2368 - val_loss: -1.2104\n",
      "Epoch 2/5\n",
      "713/713 [==============================] - 42s 58ms/step - loss: -1.1604 - val_loss: -0.9521\n",
      "Epoch 3/5\n",
      "713/713 [==============================] - 42s 59ms/step - loss: -1.1030 - val_loss: -1.0061\n",
      "Epoch 4/5\n",
      "713/713 [==============================] - 42s 59ms/step - loss: -1.0447 - val_loss: -0.9769\n",
      "Epoch 5/5\n",
      "713/713 [==============================] - 42s 59ms/step - loss: -1.0454 - val_loss: -0.8347\n",
      "time:218.998108625412\n"
     ]
    }
   ],
   "source": [
    "# conv_base = DenseNet_greyscale(121,(224,224,1),'max',False)\n",
    "# train_model,feature_model = create_model2(1e-3,margin_loss_fun_factory(0.1,5),conv_base,color)\n",
    "start = time.time()\n",
    "history = train_model.fit_generator(\n",
    "          gen_train,\n",
    "          validation_data = gen_val,\n",
    "          epochs=5,\n",
    "          use_multiprocessing=True,workers=2,max_queue_size=20)\n",
    "end = time.time()\n",
    "print('time:{}'.format(end - start))"
   ]
  },
  {
   "cell_type": "code",
   "execution_count": null,
   "metadata": {},
   "outputs": [],
   "source": []
  },
  {
   "cell_type": "code",
   "execution_count": null,
   "metadata": {},
   "outputs": [],
   "source": []
  },
  {
   "cell_type": "markdown",
   "metadata": {},
   "source": [
    "Fine-Tune"
   ]
  },
  {
   "cell_type": "code",
   "execution_count": 8,
   "metadata": {},
   "outputs": [],
   "source": [
    "feature_model.layers[0].trainable=True"
   ]
  },
  {
   "cell_type": "code",
   "execution_count": 9,
   "metadata": {},
   "outputs": [],
   "source": [
    "train = False\n",
    "for layer in feature_model.layers[0].layers:\n",
    "    if 'conv5' in layer.name:\n",
    "        train = True\n",
    "    layer.trainable = train"
   ]
  },
  {
   "cell_type": "code",
   "execution_count": 12,
   "metadata": {},
   "outputs": [
    {
     "name": "stdout",
     "output_type": "stream",
     "text": [
      "WARNING:tensorflow:Output \"sequential\" missing from loss dictionary. We assume this was done on purpose. The fit and evaluate APIs will not be expecting any data to be passed to \"sequential\".\n"
     ]
    }
   ],
   "source": [
    "train_model.compile(loss=None,optimizer=tf.keras.optimizers.Adam(lr=4e-4))"
   ]
  },
  {
   "cell_type": "code",
   "execution_count": null,
   "metadata": {},
   "outputs": [],
   "source": []
  },
  {
   "cell_type": "code",
   "execution_count": 14,
   "metadata": {},
   "outputs": [
    {
     "name": "stderr",
     "output_type": "stream",
     "text": [
      "/home/will/anaconda3/lib/python3.6/site-packages/tensorflow/python/ops/gradients_impl.py:112: UserWarning: Converting sparse IndexedSlices to a dense Tensor of unknown shape. This may consume a large amount of memory.\n",
      "  \"Converting sparse IndexedSlices to a dense Tensor of unknown shape. \"\n"
     ]
    },
    {
     "name": "stdout",
     "output_type": "stream",
     "text": [
      "Epoch 1/5\n",
      "712/713 [============================>.] - ETA: 0s - loss: -1.1153Epoch 1/5\n",
      "713/713 [==============================] - 71s 100ms/step - loss: -1.1155 - val_loss: -1.3230\n",
      "Epoch 2/5\n",
      "713/713 [==============================] - 55s 77ms/step - loss: -1.3624 - val_loss: -1.4355\n",
      "Epoch 3/5\n",
      "713/713 [==============================] - 55s 78ms/step - loss: -1.5321 - val_loss: -1.4019\n",
      "Epoch 4/5\n",
      "713/713 [==============================] - 55s 78ms/step - loss: -1.5510 - val_loss: -1.5090\n",
      "Epoch 5/5\n",
      "713/713 [==============================] - 55s 78ms/step - loss: -1.6296 - val_loss: -1.4016\n",
      "time:297.7761158943176\n"
     ]
    }
   ],
   "source": [
    "start = time.time()\n",
    "history = train_model.fit_generator(\n",
    "          gen_train,\n",
    "          validation_data = gen_val,\n",
    "          epochs=5,\n",
    "          use_multiprocessing=True,workers=2,max_queue_size=20)\n",
    "end = time.time()\n",
    "print('time:{}'.format(end - start))"
   ]
  },
  {
   "cell_type": "code",
   "execution_count": 15,
   "metadata": {},
   "outputs": [],
   "source": [
    "train_model.save('Models/DenseNet_Triplet1.h5')\n",
    "feature_model.save('Models/feature_model_DenseNet_Triplet1.h5')"
   ]
  },
  {
   "cell_type": "code",
   "execution_count": null,
   "metadata": {},
   "outputs": [],
   "source": []
  },
  {
   "cell_type": "code",
   "execution_count": null,
   "metadata": {},
   "outputs": [],
   "source": []
  },
  {
   "cell_type": "code",
   "execution_count": 16,
   "metadata": {},
   "outputs": [],
   "source": [
    "train = False\n",
    "for layer in feature_model.layers[0].layers:\n",
    "    if 'conv4' in layer.name:\n",
    "        train = True\n",
    "    layer.trainable = train"
   ]
  },
  {
   "cell_type": "code",
   "execution_count": 17,
   "metadata": {},
   "outputs": [
    {
     "name": "stdout",
     "output_type": "stream",
     "text": [
      "WARNING:tensorflow:Output \"sequential\" missing from loss dictionary. We assume this was done on purpose. The fit and evaluate APIs will not be expecting any data to be passed to \"sequential\".\n"
     ]
    }
   ],
   "source": [
    "train_model.compile(loss=None,optimizer=tf.keras.optimizers.Adam(lr=1e-4))"
   ]
  },
  {
   "cell_type": "code",
   "execution_count": 19,
   "metadata": {},
   "outputs": [
    {
     "name": "stderr",
     "output_type": "stream",
     "text": [
      "/home/will/anaconda3/lib/python3.6/site-packages/tensorflow/python/ops/gradients_impl.py:112: UserWarning: Converting sparse IndexedSlices to a dense Tensor of unknown shape. This may consume a large amount of memory.\n",
      "  \"Converting sparse IndexedSlices to a dense Tensor of unknown shape. \"\n"
     ]
    },
    {
     "name": "stdout",
     "output_type": "stream",
     "text": [
      "Epoch 1/5\n",
      "713/713 [==============================] - 106s 149ms/step - loss: -1.6694 - val_loss: -1.5632\n",
      "Epoch 2/5\n",
      "713/713 [==============================] - 79s 110ms/step - loss: -1.7263 - val_loss: -1.6662\n",
      "Epoch 3/5\n",
      "713/713 [==============================] - 79s 110ms/step - loss: -1.7704 - val_loss: -1.6344\n",
      "Epoch 4/5\n",
      "713/713 [==============================] - 79s 110ms/step - loss: -1.7852 - val_loss: -1.6852\n",
      "Epoch 5/5\n",
      "713/713 [==============================] - 78s 110ms/step - loss: -1.8173 - val_loss: -1.6928\n",
      "time:433.1601552963257\n"
     ]
    }
   ],
   "source": [
    "start = time.time()\n",
    "history = train_model.fit_generator(\n",
    "          gen_train,\n",
    "          validation_data = gen_val,\n",
    "          epochs=5,\n",
    "          use_multiprocessing=True,workers=2,max_queue_size=20)\n",
    "end = time.time()\n",
    "print('time:{}'.format(end - start))"
   ]
  },
  {
   "cell_type": "code",
   "execution_count": null,
   "metadata": {},
   "outputs": [],
   "source": []
  },
  {
   "cell_type": "code",
   "execution_count": 20,
   "metadata": {},
   "outputs": [],
   "source": [
    "train = True\n",
    "for layer in feature_model.layers[0].layers:\n",
    "    layer.trainable = train"
   ]
  },
  {
   "cell_type": "code",
   "execution_count": 22,
   "metadata": {},
   "outputs": [
    {
     "name": "stdout",
     "output_type": "stream",
     "text": [
      "WARNING:tensorflow:Output \"sequential\" missing from loss dictionary. We assume this was done on purpose. The fit and evaluate APIs will not be expecting any data to be passed to \"sequential\".\n"
     ]
    }
   ],
   "source": [
    "train_model.compile(loss=None,optimizer=tf.keras.optimizers.Adam(lr=1e-5))"
   ]
  },
  {
   "cell_type": "code",
   "execution_count": 24,
   "metadata": {},
   "outputs": [
    {
     "name": "stderr",
     "output_type": "stream",
     "text": [
      "/home/will/anaconda3/lib/python3.6/site-packages/tensorflow/python/ops/gradients_impl.py:112: UserWarning: Converting sparse IndexedSlices to a dense Tensor of unknown shape. This may consume a large amount of memory.\n",
      "  \"Converting sparse IndexedSlices to a dense Tensor of unknown shape. \"\n"
     ]
    },
    {
     "name": "stdout",
     "output_type": "stream",
     "text": [
      "Epoch 1/5\n",
      "713/713 [==============================] - 168s 236ms/step - loss: -1.8479 - val_loss: -1.7975\n",
      "Epoch 2/5\n",
      "713/713 [==============================] - 129s 180ms/step - loss: -1.8559 - val_loss: -1.8232\n",
      "Epoch 3/5\n",
      "713/713 [==============================] - 128s 180ms/step - loss: -1.8962 - val_loss: -1.8236\n",
      "Epoch 4/5\n",
      "713/713 [==============================] - 129s 180ms/step - loss: -1.8970 - val_loss: -1.7778\n",
      "Epoch 5/5\n",
      "713/713 [==============================] - 128s 180ms/step - loss: -1.8827 - val_loss: -1.8367\n",
      "time:700.4021592140198\n"
     ]
    }
   ],
   "source": [
    "start = time.time()\n",
    "history = train_model.fit_generator(\n",
    "          gen_train,\n",
    "          validation_data = gen_val,\n",
    "          epochs=5,\n",
    "          use_multiprocessing=True,workers=2,max_queue_size=20)\n",
    "end = time.time()\n",
    "print('time:{}'.format(end - start))"
   ]
  },
  {
   "cell_type": "code",
   "execution_count": 25,
   "metadata": {},
   "outputs": [],
   "source": [
    "train_model.save('Models/DenseNet_Triplet2.h5')\n",
    "feature_model.save('Models/feature_model_DenseNet_Triplet2.h5')"
   ]
  },
  {
   "cell_type": "code",
   "execution_count": null,
   "metadata": {},
   "outputs": [],
   "source": []
  },
  {
   "cell_type": "code",
   "execution_count": null,
   "metadata": {},
   "outputs": [],
   "source": []
  }
 ],
 "metadata": {
  "kernelspec": {
   "display_name": "Python 3",
   "language": "python",
   "name": "python3"
  },
  "language_info": {
   "codemirror_mode": {
    "name": "ipython",
    "version": 3
   },
   "file_extension": ".py",
   "mimetype": "text/x-python",
   "name": "python",
   "nbconvert_exporter": "python",
   "pygments_lexer": "ipython3",
   "version": "3.6.6"
  },
  "toc": {
   "base_numbering": 1,
   "nav_menu": {},
   "number_sections": true,
   "sideBar": true,
   "skip_h1_title": false,
   "title_cell": "Table of Contents",
   "title_sidebar": "Contents",
   "toc_cell": false,
   "toc_position": {},
   "toc_section_display": true,
   "toc_window_display": false
  }
 },
 "nbformat": 4,
 "nbformat_minor": 2
}
