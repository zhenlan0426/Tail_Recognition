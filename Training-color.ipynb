{
 "cells": [
  {
   "cell_type": "code",
   "execution_count": 5,
   "metadata": {},
   "outputs": [],
   "source": [
    "import pickle\n",
    "from albumentations import ShiftScaleRotate,Cutout,RandomContrast,RandomBrightness,Compose\n",
    "from utility.albumentations_helper import create_transform\n",
    "from utility.others import clear_all\n",
    "import time\n",
    "from functions import DataGenerator,PredictGenerator,create_model,dot_distance,exp_loss,\\\n",
    "                        sigmoid_dot_distance,dot_sigmoid_distance,cross_entropy_loss,l2_distance,\\\n",
    "                        margin_loss_fun_factory\n",
    "from utility.grayscale_imagenet import Xception_greyscale\n",
    "import tensorflow as tf\n",
    "import numpy as np\n",
    "from tensorflow.keras.models import load_model\n",
    "from tensorflow.keras.applications import Xception,DenseNet121"
   ]
  },
  {
   "cell_type": "code",
   "execution_count": 2,
   "metadata": {},
   "outputs": [],
   "source": [
    "color = True"
   ]
  },
  {
   "cell_type": "code",
   "execution_count": null,
   "metadata": {},
   "outputs": [],
   "source": []
  },
  {
   "cell_type": "markdown",
   "metadata": {},
   "source": [
    "### set up generator"
   ]
  },
  {
   "cell_type": "code",
   "execution_count": 3,
   "metadata": {},
   "outputs": [],
   "source": [
    "if color:\n",
    "    with open('/home/will/Desktop/kaggle/Whale/train_df_color.pkl', 'rb') as f:\n",
    "        Ids_train = pickle.load(f)\n",
    "    with open('/home/will/Desktop/kaggle/Whale/new_whale_train_color.pkl', 'rb') as f:\n",
    "        newWhale_train = pickle.load(f)\n",
    "    with open('/home/will/Desktop/kaggle/Whale/val_df_color.pkl', 'rb') as f:\n",
    "        Ids_val = pickle.load(f)\n",
    "    with open('/home/will/Desktop/kaggle/Whale/new_whale_val_color.pkl', 'rb') as f:\n",
    "        newWhale_val = pickle.load(f)\n",
    "else:\n",
    "    with open('/home/will/Desktop/kaggle/Whale/train_df.pkl', 'rb') as f:\n",
    "        Ids_train = pickle.load(f)\n",
    "    with open('/home/will/Desktop/kaggle/Whale/new_whale_train.pkl', 'rb') as f:\n",
    "        newWhale_train = pickle.load(f)\n",
    "    with open('/home/will/Desktop/kaggle/Whale/val_df.pkl', 'rb') as f:\n",
    "        Ids_val = pickle.load(f)\n",
    "    with open('/home/will/Desktop/kaggle/Whale/new_whale_val.pkl', 'rb') as f:\n",
    "        newWhale_val = pickle.load(f)"
   ]
  },
  {
   "cell_type": "code",
   "execution_count": 4,
   "metadata": {},
   "outputs": [],
   "source": [
    "aug = Compose([RandomContrast(p=0.2),RandomBrightness(p=0.2),\n",
    "                ShiftScaleRotate(shift_limit=0.03,rotate_limit=15,scale_limit=0.02,p=1),Cutout(p=0.5)])\n",
    "transform = create_transform(aug)    \n",
    "\n",
    "gen_train = DataGenerator(Ids_train,newWhale_train,transform,color=color,HalfBatch=8)\n",
    "gen_val = DataGenerator(Ids_val,newWhale_val,transform,color=color,HalfBatch=8)"
   ]
  },
  {
   "cell_type": "code",
   "execution_count": null,
   "metadata": {},
   "outputs": [],
   "source": []
  },
  {
   "cell_type": "markdown",
   "metadata": {},
   "source": [
    "### build model"
   ]
  },
  {
   "cell_type": "code",
   "execution_count": 6,
   "metadata": {
    "scrolled": false
   },
   "outputs": [],
   "source": [
    "#conv_base = Xception(weights='imagenet',include_top=False,pooling='max')\n",
    "conv_base = DenseNet121(weights='imagenet',include_top=False,pooling='max')\n",
    "conv_base.trainable = False\n",
    "# conv_base = Xception_greyscale((256,256,1),'max',False)"
   ]
  },
  {
   "cell_type": "code",
   "execution_count": 7,
   "metadata": {
    "scrolled": false
   },
   "outputs": [],
   "source": [
    "train_model,feature_model = create_model(1e-3,l2_distance,margin_loss_fun_factory(0.1,5),\\\n",
    "                                         conv_base,color)"
   ]
  },
  {
   "cell_type": "code",
   "execution_count": null,
   "metadata": {},
   "outputs": [],
   "source": []
  },
  {
   "cell_type": "markdown",
   "metadata": {},
   "source": [
    "### training"
   ]
  },
  {
   "cell_type": "code",
   "execution_count": 8,
   "metadata": {},
   "outputs": [
    {
     "name": "stdout",
     "output_type": "stream",
     "text": [
      "Epoch 1/5\n",
      "714/714 [==============================] - 128s 179ms/step - loss: -0.4021 - val_loss: -0.4469\n",
      "Epoch 2/5\n",
      "714/714 [==============================] - 163s 228ms/step - loss: -0.4401 - val_loss: -0.4739\n",
      "Epoch 3/5\n",
      "714/714 [==============================] - 167s 234ms/step - loss: -0.4754 - val_loss: -0.4422\n",
      "Epoch 4/5\n",
      "714/714 [==============================] - 167s 234ms/step - loss: -0.4677 - val_loss: -0.4591\n",
      "Epoch 5/5\n",
      "714/714 [==============================] - 169s 236ms/step - loss: -0.4655 - val_loss: -0.4550\n",
      "time:793.5516078472137\n"
     ]
    }
   ],
   "source": [
    "# conv_base = Xception(weights='imagenet',include_top=False,pooling='max')\n",
    "# train_model,feature_model = create_model(1e-3,l2_distance,margin_loss_fun_factory(0.1,5),\\\n",
    "#                                         conv_base,color)\n",
    "start = time.time()\n",
    "history = train_model.fit_generator(\n",
    "          gen_train,\n",
    "          validation_data = gen_val,\n",
    "          epochs=5,\n",
    "          use_multiprocessing=True,workers=2,max_queue_size=20)\n",
    "end = time.time()\n",
    "print('time:{}'.format(end - start))"
   ]
  },
  {
   "cell_type": "code",
   "execution_count": null,
   "metadata": {},
   "outputs": [],
   "source": []
  },
  {
   "cell_type": "code",
   "execution_count": 9,
   "metadata": {},
   "outputs": [
    {
     "name": "stdout",
     "output_type": "stream",
     "text": [
      "Epoch 1/5\n",
      "714/714 [==============================] - 157s 220ms/step - loss: -0.2326 - val_loss: -0.4480\n",
      "Epoch 2/5\n",
      "714/714 [==============================] - 147s 207ms/step - loss: -0.4798 - val_loss: -0.4687\n",
      "Epoch 3/5\n",
      "714/714 [==============================] - 135s 189ms/step - loss: -0.5311 - val_loss: -0.4971\n",
      "Epoch 4/5\n",
      "714/714 [==============================] - 143s 200ms/step - loss: -0.5399 - val_loss: -0.4593\n",
      "Epoch 5/5\n",
      "714/714 [==============================] - 141s 197ms/step - loss: -0.5498 - val_loss: -0.4553\n",
      "time:723.2273600101471\n"
     ]
    }
   ],
   "source": [
    "#conv_base = DenseNet121(weights='imagenet',include_top=False,pooling='max')\n",
    "#train_model,feature_model = create_model(1e-3,l2_distance,margin_loss_fun_factory(0.1,5),\\\n",
    "#                                         conv_base,color)\n",
    "start = time.time()\n",
    "history = train_model.fit_generator(\n",
    "          gen_train,\n",
    "          validation_data = gen_val,\n",
    "          epochs=5,\n",
    "          use_multiprocessing=True,workers=2,max_queue_size=20)\n",
    "end = time.time()\n",
    "print('time:{}'.format(end - start))"
   ]
  },
  {
   "cell_type": "code",
   "execution_count": null,
   "metadata": {},
   "outputs": [],
   "source": []
  },
  {
   "cell_type": "code",
   "execution_count": null,
   "metadata": {},
   "outputs": [],
   "source": []
  }
 ],
 "metadata": {
  "kernelspec": {
   "display_name": "Python 3",
   "language": "python",
   "name": "python3"
  },
  "language_info": {
   "codemirror_mode": {
    "name": "ipython",
    "version": 3
   },
   "file_extension": ".py",
   "mimetype": "text/x-python",
   "name": "python",
   "nbconvert_exporter": "python",
   "pygments_lexer": "ipython3",
   "version": "3.6.6"
  }
 },
 "nbformat": 4,
 "nbformat_minor": 2
}
